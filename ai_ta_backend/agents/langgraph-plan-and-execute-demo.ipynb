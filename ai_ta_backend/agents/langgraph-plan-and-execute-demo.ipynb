{
 "cells": [
  {
   "cell_type": "markdown",
   "id": "79b5811c-1074-495f-9722-8325b5e717d3",
   "metadata": {},
   "source": [
    "# Plan-and-Execute\n",
    "\n",
    "This notebook shows how to create a \"plan-and-execute\" style agent. This is heavily inspired by the [Plan-and-Solve](https://arxiv.org/abs/2305.04091) paper as well as the [Baby-AGI](https://github.com/yoheinakajima/babyagi) project.\n",
    "\n",
    "The core idea is to first come up with a multi-step plan, and then go through that plan one item at a time.\n",
    "After accomplishing a particular task, you can then revisit the plan and modify as appropriate.\n",
    "\n",
    "\n",
    "The general computational graph looks like the following:\n",
    "\n",
    "\n",
    "![plan-and-execute diagram](./img/plan-and-execute.png)\n",
    "\n",
    "\n",
    "This compares to a typical [ReAct](https://arxiv.org/abs/2210.03629) style agent where you think one step at a time.\n",
    "The advantages of this \"plan-and-execute\" style agent are:\n",
    "\n",
    "1. Explicit long term planning (which even really strong LLMs can struggle with)\n",
    "2. Ability to use smaller/weaker models for the execution step, only using larger/better models for the planning step\n",
    "\n",
    "\n",
    "The following walkthrough demonstrates how to do so in LangGraph. The resulting agent will leave a trace like the following example: ([link](https://smith.langchain.com/public/d46e24d3-dda6-44d5-9550-b618fca4e0d4/r))."
   ]
  },
  {
   "cell_type": "markdown",
   "id": "a44a72d6-7e0c-4478-9d20-4c09000420a8",
   "metadata": {},
   "source": [
    "## Setup\n",
    "\n",
    "First, we need to install the packages required."
   ]
  },
  {
   "cell_type": "code",
   "execution_count": 1,
   "id": "b451b58a-89bd-424f-8c06-0d9fe325e01b",
   "metadata": {},
   "outputs": [
    {
     "name": "stdout",
     "output_type": "stream",
     "text": [
      "\n",
      "\u001b[1m[\u001b[0m\u001b[34;49mnotice\u001b[0m\u001b[1;39;49m]\u001b[0m\u001b[39;49m A new release of pip is available: \u001b[0m\u001b[31;49m23.3.2\u001b[0m\u001b[39;49m -> \u001b[0m\u001b[32;49m24.0\u001b[0m\n",
      "\u001b[1m[\u001b[0m\u001b[34;49mnotice\u001b[0m\u001b[1;39;49m]\u001b[0m\u001b[39;49m To update, run: \u001b[0m\u001b[32;49mpython3.11 -m pip install --upgrade pip\u001b[0m\n"
     ]
    }
   ],
   "source": [
    "!pip install --quiet -U langchain langchain_openai tavily-python"
   ]
  },
  {
   "cell_type": "markdown",
   "id": "35f267b0-98db-4a59-8b2c-a23f795576ff",
   "metadata": {},
   "source": [
    "Next, we need to set API keys for OpenAI (the LLM we will use) and Tavily (the search tool we will use)"
   ]
  },
  {
   "cell_type": "code",
   "execution_count": 45,
   "id": "ce438281-08d5-4804-afe7-e4089f7b016b",
   "metadata": {},
   "outputs": [
    {
     "data": {
      "text/plain": [
       "True"
      ]
     },
     "execution_count": 45,
     "metadata": {},
     "output_type": "execute_result"
    }
   ],
   "source": [
    "import os\n",
    "# import getpass\n",
    "\n",
    "# os.environ[\"OPENAI_API_KEY\"] = getpass.getpass(\"OpenAI API Key:\")\n",
    "# os.environ[\"TAVILY_API_KEY\"] = getpass.getpass(\"Tavily API Key:\")\n",
    "\n",
    "from dotenv import load_dotenv\n",
    "load_dotenv(override=True)"
   ]
  },
  {
   "cell_type": "markdown",
   "id": "be2d7981-3737-4134-8bef-d00d18d4e91d",
   "metadata": {},
   "source": [
    "Optionally, we can set API key for LangSmith tracing, which will give us best-in-class observability."
   ]
  },
  {
   "cell_type": "code",
   "execution_count": 22,
   "id": "01f460d1-f26f-47d1-ae76-de74d5d851de",
   "metadata": {},
   "outputs": [],
   "source": [
    "os.environ[\"LANGCHAIN_TRACING_V2\"] = \"true\"\n",
    "os.environ[\"LANGCHAIN_PROJECT\"] = \"Plan-and-execute\""
   ]
  },
  {
   "cell_type": "code",
   "execution_count": 23,
   "id": "e94db77d",
   "metadata": {},
   "outputs": [
    {
     "data": {
      "text/plain": [
       "'Plan-and-execute'"
      ]
     },
     "execution_count": 23,
     "metadata": {},
     "output_type": "execute_result"
    }
   ],
   "source": []
  },
  {
   "cell_type": "code",
   "execution_count": 26,
   "id": "af684aee",
   "metadata": {},
   "outputs": [
    {
     "data": {
      "text/plain": [
       "'ls__1f449613fd404c5b9a31990a420d1624'"
      ]
     },
     "execution_count": 26,
     "metadata": {},
     "output_type": "execute_result"
    }
   ],
   "source": []
  },
  {
   "cell_type": "code",
   "execution_count": null,
   "id": "d9cb7861",
   "metadata": {},
   "outputs": [],
   "source": []
  },
  {
   "cell_type": "markdown",
   "id": "6c5fb09a-0311-44c2-b243-d0e80de78902",
   "metadata": {},
   "source": [
    "## Define Tools\n",
    "\n",
    "We will first define the tools we want to use. For this simple example, we will use a built-in search tool via Tavily. However, it is really easy to create your own tools - see documentation [here](https://python.langchain.com/docs/modules/agents/tools/custom_tools) on how to do that."
   ]
  },
  {
   "cell_type": "code",
   "execution_count": 27,
   "id": "25b9ec62-0675-4715-811c-9b32c635b22f",
   "metadata": {},
   "outputs": [
    {
     "data": {
      "text/plain": [
       "[Tool(name='Search', description='A search engine. Useful for when you need to answer questions about current events. Input should be a search query.', func=<bound method SerpAPIWrapper.run of SerpAPIWrapper(search_engine=<class 'serpapi.google_search.GoogleSearch'>, params={'engine': 'google', 'google_domain': 'google.com', 'gl': 'us', 'hl': 'en'}, serpapi_api_key='edf00a75c49d95767f0f7b99cddb763bea1145f2f94cf9f88879bbcab19c9a8f', aiosession=None)>, coroutine=<bound method SerpAPIWrapper.arun of SerpAPIWrapper(search_engine=<class 'serpapi.google_search.GoogleSearch'>, params={'engine': 'google', 'google_domain': 'google.com', 'gl': 'us', 'hl': 'en'}, serpapi_api_key='edf00a75c49d95767f0f7b99cddb763bea1145f2f94cf9f88879bbcab19c9a8f', aiosession=None)>)]"
      ]
     },
     "execution_count": 27,
     "metadata": {},
     "output_type": "execute_result"
    }
   ],
   "source": [
    "# from langchain_community.tools.tavily_search import TavilySearchResults\n",
    "from langchain.agents import load_tools\n",
    "\n",
    "# tools = [TavilySearchResults(max_results=3)]\n",
    "tools = load_tools([\"serpapi\"])\n",
    "tools"
   ]
  },
  {
   "cell_type": "markdown",
   "id": "3dcda478-fa80-4e3e-bb35-0f622fe73a31",
   "metadata": {},
   "source": [
    "## Define our Execution Agent\n",
    "\n",
    "Now we will create the execution agent we want to use to execute tasks. \n",
    "Note that for this example, we will be using the same execution agent for each task, but this doesn't HAVE to be the case."
   ]
  },
  {
   "cell_type": "code",
   "execution_count": 28,
   "id": "72d233ca-1dbf-4b43-b680-b3bf39e3691f",
   "metadata": {},
   "outputs": [],
   "source": [
    "from langchain import hub\n",
    "from langchain.agents import create_openai_functions_agent\n",
    "from langchain_openai import AzureChatOpenAI, ChatOpenAI\n",
    "\n",
    "# Get the prompt to use - you can modify this!\n",
    "prompt = hub.pull(\"hwchase17/openai-functions-agent\")\n",
    "# Choose the LLM that will drive the agent\n",
    "# llm = ChatOpenAI(model=\"gpt-4-turbo-preview\")\n",
    "llm = AzureChatOpenAI(\n",
    "          azure_deployment=\"gpt-4-128k\",\n",
    "          openai_api_version=os.getenv(\"AZURE_0125_MODEL_VERSION\"),\n",
    "          temperature=0,\n",
    "          azure_endpoint=os.getenv(\"AZURE_0125_MODEL_ENDPOINT\"),\n",
    "          openai_api_key=os.getenv(\"AZURE_0125_MODEL_API_KEY\"),\n",
    "      )\n",
    "# Construct the OpenAI Functions agent\n",
    "agent_runnable = create_openai_functions_agent(llm, tools, prompt)"
   ]
  },
  {
   "cell_type": "code",
   "execution_count": 29,
   "id": "a3ea9bd3-87d9-4a78-aec6-8ab4bf34479b",
   "metadata": {},
   "outputs": [],
   "source": [
    "from langgraph.prebuilt import create_agent_executor"
   ]
  },
  {
   "cell_type": "code",
   "execution_count": 30,
   "id": "998aebde-c204-494f-930c-14747ed34861",
   "metadata": {},
   "outputs": [],
   "source": [
    "agent_executor = create_agent_executor(agent_runnable, tools)"
   ]
  },
  {
   "cell_type": "code",
   "execution_count": 31,
   "id": "746e697a-dec4-4342-a814-9b3456828169",
   "metadata": {},
   "outputs": [
    {
     "name": "stdout",
     "output_type": "stream",
     "text": [
      " ------- MIGHT TRUNCATE MESSAGES ------- \n",
      "/\\/\\/\\/\\/\\ num_tokens_in_messages 26\n",
      "/\\/\\/\\/\\/\\ Hard coded context window size of: 120000\n",
      " ------- MIGHT TRUNCATE MESSAGES ------- \n",
      "/\\/\\/\\/\\/\\ num_tokens_in_messages 1956\n",
      "/\\/\\/\\/\\/\\ Hard coded context window size of: 120000\n"
     ]
    },
    {
     "data": {
      "text/plain": [
       "{'input': 'who is the winnner of the us open',\n",
       " 'chat_history': [],\n",
       " 'agent_outcome': AgentFinish(return_values={'output': 'The US Open 2023 is currently ongoing, and the information provided includes results from the qualifiers. The winner of the tournament has not been determined yet, as the event is scheduled from August 22 to September 10, 2023. For the latest updates and results, you can visit the official US Open website.'}, log='The US Open 2023 is currently ongoing, and the information provided includes results from the qualifiers. The winner of the tournament has not been determined yet, as the event is scheduled from August 22 to September 10, 2023. For the latest updates and results, you can visit the official US Open website.'),\n",
       " 'intermediate_steps': [(AgentActionMessageLog(tool='Search', tool_input='US Open winner 2023', log='\\nInvoking: `Search` with `US Open winner 2023`\\n\\n\\n', message_log=[AIMessage(content='', additional_kwargs={'function_call': {'arguments': '{\"__arg1\":\"US Open winner 2023\"}', 'name': 'Search'}})]),\n",
       "   \"{'title': 'US Open', 'date': 'Aug 22–Sep 10, 2023', 'tables': {'games': [{'stage': 'Qualifiers', 'location': 'Court 11', 'video_highlights': {'link': 'https://www.usopen.org/en_US/video/index.html?ac_vh_s=link&lwrt=%23%2Fchannel%2F4476%2Flfbumnsin5xuewlkobeue3cyjvdfuqzn?cid=2023oneboxINTL_00000000_phto_chothr_ctwbtr_endcid', 'thumbnail': 'https:https://ssl.gstatic.com/onebox/media/sports/videos/vita/W6gL8niH0X03coEj_96x54.jpg', 'duration': '1:49'}, 'players': [{'name': 'F. Delbonis', 'ranking': '', 'thumbnail': 'https:https://ssl.gstatic.com/onebox/media/sports/logos/1xBWyjjkA6vEWopPK3lIPA_48x48.png', 'sets': {'set-1': '4', 'set-2': '6', 'set-3': '5'}}, {'name': 'M. Damm Jr.', 'ranking': '', 'thumbnail': 'https:https://ssl.gstatic.com/onebox/media/sports/logos/wj9uZvn_vZrelLFGH8fnPA_48x48.png', 'sets': {'set-1': '6', 'set-2': '4', 'set-3': '7'}}]}, {'stage': 'Qualifiers', 'location': 'Court 4', 'video_highlights': {'link': 'https://www.usopen.org/en_US/video/index.html?ac_vh_s=link#/channel/4476/g5me2wsin5xueqzzk5jgyukfgj3tsqsl?cid=2023oneboxUSA_00000000_phto_chothr_ctwbtr_endcid', 'thumbnail': 'https:https://ssl.gstatic.com/onebox/media/sports/videos/vita/d57wXYtqqJzB3gDt_96x54.jpg', 'duration': '1:16'}, 'players': [{'name': 'F. Coria', 'ranking': '3', 'thumbnail': 'https:https://ssl.gstatic.com/onebox/media/sports/logos/1xBWyjjkA6vEWopPK3lIPA_48x48.png', 'sets': {'set-1': '6', 'set-2': '6'}}, {'name': 'C. Carabelli', 'ranking': '', 'thumbnail': 'https:https://ssl.gstatic.com/onebox/media/sports/logos/1xBWyjjkA6vEWopPK3lIPA_48x48.png', 'sets': {'set-1': '3', 'set-2': '1'}}]}, {'stage': 'Qualifiers', 'location': 'Grandstand', 'video_highlights': {'link': 'https://www.usopen.org/en_US/video/index.html#/channel/4558/mzjuylkin5xuewlkobeue3cyjv5dezzz?cid=2023oneboxINTL_00000000_phto_chothr_ctwbtr_endcid', 'thumbnail': 'https:https://ssl.gstatic.com/onebox/media/sports/videos/vita/B73RzZyZm5phigtv_96x54.jpg', 'duration': '1:20'}, 'players': [{'name': 'Q. Vandecasteele', 'ranking': '', 'thumbnail': 'https:https://ssl.gstatic.com/onebox/media/sports/logos/wj9uZvn_vZrelLFGH8fnPA_48x48.png', 'sets': {'set-1': '1', 'set-2': '2'}}, {'name': 'F. Bagnis', 'ranking': '29', 'thumbnail': 'https:https://ssl.gstatic.com/onebox/media/sports/logos/1xBWyjjkA6vEWopPK3lIPA_48x48.png', 'sets': {'set-1': '6', 'set-2': '6'}}]}, {'stage': 'Qualifiers', 'location': 'Court 15', 'video_highlights': {'link': 'https://www.usopen.org/en_US/video/index.html?ac_vh_s=link&lwrt=%23%2Fchannel%2F4476%2Fg5efclkin5xueqzzk5jgyukfgjmvcnbs?ccid=2023oneboxINTL_00000000_phto_chothr_ctwbtr_endcid', 'thumbnail': 'https:https://ssl.gstatic.com/onebox/media/sports/videos/vita/_fNjM6P103o7jljB_96x54.jpg', 'duration': '1:52'}, 'players': [{'name': 'F. Alves', 'ranking': '', 'thumbnail': 'https:https://ssl.gstatic.com/onebox/media/sports/logos/zKLzoJVYz0bb6oAnPUdwWQ_48x48.png', 'sets': {'set-1': '2', 'set-2': '6', 'set-3': '6'}}, {'name': 'D. Svrcina', 'ranking': '', 'thumbnail': 'https:https://ssl.gstatic.com/onebox/media/sports/logos/8AluO-WxpcHtC0KKHmFgvg_48x48.png', 'sets': {'set-1': '6', 'set-2': '2', 'set-3': '3'}}]}, {'stage': 'Qualifiers', 'location': 'Court 6', 'video_highlights': {'link': 'https://www.usopen.org/en_US/video/index.html?ac_vh_s=link&lwrt=%23%2Fchannel%2F4476%2Fmnuumq2in5xuewlkobeue3cyju2viqkl?cid=2023oneboxINTL_00000000_phto_chothr_ctwbtr_endcid', 'thumbnail': 'https:https://ssl.gstatic.com/onebox/media/sports/videos/vita/CwIny6WpBCXA2lAP_96x54.jpg', 'duration': '2:00'}, 'players': [{'name': 'F. Gaio', 'ranking': '', 'thumbnail': 'https:https://ssl.gstatic.com/onebox/media/sports/logos/joYpsiaYi4GDCqhSRAq5Zg_48x48.png', 'sets': {'set-1': '3', 'set-2': '6', 'set-3': '6'}}, {'name': 'H. Grenier', 'ranking': '32', 'thumbnail': 'https:https://ssl.gstatic.com/onebox/media/sports/logos/z3JEQB3coEAGLCJBEUzQ2A_48x48.png', 'sets': {'set-1': '6', 'set-2': '3', 'set-3': '2'}}]}, {'stage': 'Qualifiers', 'location': 'Court 14', 'video_highlights': {'link': 'https://www.usopen.org/en_US/video/index.html?ac_vh_s=link&lwrt=%23%2Fchannel%2F4476%2Fjjbumtkin5xuewlkobeue3cyjvndarsb%3Fcid%3D2023oneboxUSA_00000000_phto_chothr_ctwbtr_endcid&cid=2023oneboxINTL_00000000_phto_chothr_ctwbtr_endcid', 'thumbnail': 'https:https://ssl.gstatic.com/onebox/media/sports/videos/vita/T7EQXGy4ywFKKvuQ_96x54.jpg', 'duration': '1:55'}, 'players': [{'name': 'F. Passaro', 'ranking': '', 'thumbnail': 'https:https://ssl.gstatic.com/onebox/media/sports/logos/joYpsiaYi4GDCqhSRAq5Zg_48x48.png', 'sets': {'set-1': '6 + 3', 'set-2': '4'}}, {'name': 'S.C. Hong', 'ranking': '', 'thumbnail': 'https:https://ssl.gstatic.com/onebox/media/sports/logos/Uu5pwNmMHGd5bCooKrS3Lw_48x48.png', 'sets': {'set-1': '7 + 7', 'set-2': '6'}}]}]}}\")]}"
      ]
     },
     "execution_count": 31,
     "metadata": {},
     "output_type": "execute_result"
    }
   ],
   "source": [
    "agent_executor.invoke(\n",
    "    {\"input\": \"who is the winnner of the us open\", \"chat_history\": []}\n",
    ")"
   ]
  },
  {
   "cell_type": "markdown",
   "id": "5cf66804-44b2-4904-b1a7-17ad70b551f5",
   "metadata": {},
   "source": [
    "## Define the State\n",
    "\n",
    "Let's now start by defining the state the track for this agent.\n",
    "\n",
    "First, we will need to track the current plan. Let's represent that as a list of strings.\n",
    "\n",
    "Next, we should track previously executed steps. Let's represent that as a list of tuples (these tuples will contain the step and then the result)\n",
    "\n",
    "Finally, we need to have some state to represent the final response as well as the original input."
   ]
  },
  {
   "cell_type": "code",
   "execution_count": 32,
   "id": "8eeeaeea-8f10-4fbe-8e24-4e1a2381a009",
   "metadata": {},
   "outputs": [],
   "source": [
    "from langchain_core.pydantic_v1 import BaseModel, Field\n",
    "from typing import List, Tuple, Annotated, TypedDict\n",
    "import operator\n",
    "\n",
    "\n",
    "class PlanExecute(TypedDict):\n",
    "    input: str\n",
    "    plan: List[str]\n",
    "    past_steps: Annotated[List[Tuple], operator.add]\n",
    "    response: str"
   ]
  },
  {
   "cell_type": "markdown",
   "id": "1dbd770a-9941-40a9-977e-4d55359eee21",
   "metadata": {},
   "source": [
    "## Planning Step\n",
    "\n",
    "Let's now think about creating the planning step. This will use function calling to create a plan."
   ]
  },
  {
   "cell_type": "code",
   "execution_count": 33,
   "id": "4a88626d-6dfd-4488-87f0-a9a0dd6da44c",
   "metadata": {},
   "outputs": [],
   "source": [
    "from langchain_core.pydantic_v1 import BaseModel\n",
    "\n",
    "\n",
    "class Plan(BaseModel):\n",
    "    \"\"\"Plan to follow in future\"\"\"\n",
    "\n",
    "    steps: List[str] = Field(\n",
    "        description=\"different steps to follow, should be in sorted order\"\n",
    "    )"
   ]
  },
  {
   "cell_type": "code",
   "execution_count": 34,
   "id": "ec7b1867-1ea3-4df3-9a98-992a1c32ec49",
   "metadata": {},
   "outputs": [],
   "source": [
    "from langchain.chains.openai_functions import create_structured_output_runnable\n",
    "from langchain_core.prompts import ChatPromptTemplate\n",
    "\n",
    "plan_llm = AzureChatOpenAI(\n",
    "          azure_deployment=\"gpt-4-128k\",\n",
    "          openai_api_version=os.getenv(\"AZURE_0125_MODEL_VERSION\"),\n",
    "          temperature=0,\n",
    "          azure_endpoint=os.getenv(\"AZURE_0125_MODEL_ENDPOINT\"),\n",
    "          openai_api_key=os.getenv(\"AZURE_0125_MODEL_API_KEY\"),\n",
    "      )\n",
    "\n",
    "planner_prompt = ChatPromptTemplate.from_template(\n",
    "    \"\"\"For the given objective, come up with a simple step by step plan. \\\n",
    "This plan should involve individual tasks, that if executed correctly will yield the correct answer. Do not add any superfluous steps. \\\n",
    "The result of the final step should be the final answer. Make sure that each step has all the information needed - do not skip steps.\n",
    "\n",
    "{objective}\"\"\"\n",
    ")\n",
    "planner = create_structured_output_runnable(\n",
    "    Plan, plan_llm, planner_prompt\n",
    ")"
   ]
  },
  {
   "cell_type": "code",
   "execution_count": 35,
   "id": "67ce37b7-e089-479b-bcb8-c3f5d9874613",
   "metadata": {},
   "outputs": [
    {
     "name": "stdout",
     "output_type": "stream",
     "text": [
      " ------- MIGHT TRUNCATE MESSAGES ------- \n",
      "/\\/\\/\\/\\/\\ num_tokens_in_messages 87\n",
      "/\\/\\/\\/\\/\\ Hard coded context window size of: 120000\n"
     ]
    },
    {
     "data": {
      "text/plain": [
       "Plan(steps=['Identify the current year to determine the most recent Australia Open tournament.', 'Search for the winner of the most recent Australia Open in the identified year.', 'Find the hometown of the identified winner by searching their personal or professional profiles online or through sports news outlets.'])"
      ]
     },
     "execution_count": 35,
     "metadata": {},
     "output_type": "execute_result"
    }
   ],
   "source": [
    "planner.invoke(\n",
    "    {\"objective\": \"what is the hometown of the current Australia open winner?\"}\n",
    ")"
   ]
  },
  {
   "cell_type": "markdown",
   "id": "6e09ad9d-6f90-4bdc-bb43-b1ce94517c29",
   "metadata": {},
   "source": [
    "## Re-Plan Step\n",
    "\n",
    "Now, let's create a step that re-does the plan based on the result of the previous step."
   ]
  },
  {
   "cell_type": "code",
   "execution_count": 36,
   "id": "ec2d12cc-016a-44d1-aa08-4c5ce1e8fe2a",
   "metadata": {},
   "outputs": [],
   "source": [
    "from langchain.chains.openai_functions import create_openai_fn_runnable\n",
    "\n",
    "\n",
    "class Response(BaseModel):\n",
    "    \"\"\"Response to user.\"\"\"\n",
    "\n",
    "    response: str\n",
    "\n",
    "\n",
    "replanner_prompt = ChatPromptTemplate.from_template(\n",
    "    \"\"\"For the given objective, come up with a simple step by step plan. \\\n",
    "This plan should involve individual tasks, that if executed correctly will yield the correct answer. Do not add any superfluous steps. \\\n",
    "The result of the final step should be the final answer. Make sure that each step has all the information needed - do not skip steps.\n",
    "\n",
    "Your objective was this:\n",
    "{input}\n",
    "\n",
    "Your original plan was this:\n",
    "{plan}\n",
    "\n",
    "You have currently done the follow steps:\n",
    "{past_steps}\n",
    "\n",
    "Update your plan accordingly. If no more steps are needed and you can return to the user, then respond with that. Otherwise, fill out the plan. Only add steps to the plan that still NEED to be done. Do not return previously done steps as part of the plan.\"\"\"\n",
    ")\n",
    "\n",
    "replanner_llm = AzureChatOpenAI(\n",
    "          azure_deployment=\"gpt-4-128k\",\n",
    "          openai_api_version=os.getenv(\"AZURE_0125_MODEL_VERSION\"),\n",
    "          temperature=0,\n",
    "          azure_endpoint=os.getenv(\"AZURE_0125_MODEL_ENDPOINT\"),\n",
    "          openai_api_key=os.getenv(\"AZURE_0125_MODEL_API_KEY\"),\n",
    "      )\n",
    "\n",
    "replanner = create_openai_fn_runnable(\n",
    "    [Plan, Response],\n",
    "    replanner_llm,\n",
    "    replanner_prompt,\n",
    ")"
   ]
  },
  {
   "cell_type": "markdown",
   "id": "859abd13-6ba0-45ad-b341-e652dd5f755b",
   "metadata": {},
   "source": [
    "## Create the Graph\n",
    "\n",
    "We can now create the graph!"
   ]
  },
  {
   "cell_type": "code",
   "execution_count": 40,
   "id": "6c8e0dad-bcea-4c9a-8922-0d820892e2d0",
   "metadata": {},
   "outputs": [],
   "source": [
    "async def execute_step(state: PlanExecute):\n",
    "    task = state[\"plan\"][0]\n",
    "    agent_response = await agent_executor.ainvoke({\"input\": task, \"chat_history\": []})\n",
    "    return {\n",
    "        \"past_steps\": (task, agent_response[\"agent_outcome\"].return_values[\"output\"])\n",
    "    }\n",
    "\n",
    "\n",
    "async def plan_step(state: PlanExecute):\n",
    "    plan = await planner.ainvoke({\"objective\": state[\"input\"]})\n",
    "    return {\"plan\": plan.steps}\n",
    "\n",
    "\n",
    "async def replan_step(state: PlanExecute):\n",
    "    output = await replanner.ainvoke(state)\n",
    "    print(f\"{output=}\")\n",
    "    if isinstance(output, Response):\n",
    "        return {\"response\": output.response}\n",
    "    else:\n",
    "        return {\"plan\": output.steps}\n",
    "\n",
    "\n",
    "def should_end(state: PlanExecute):\n",
    "    if state[\"response\"]:\n",
    "        return True\n",
    "    else:\n",
    "        return False"
   ]
  },
  {
   "cell_type": "code",
   "execution_count": 41,
   "id": "e954cea0-5ccc-46c2-a27b-f5b7185b597d",
   "metadata": {},
   "outputs": [],
   "source": [
    "from langgraph.graph import StateGraph, END\n",
    "\n",
    "workflow = StateGraph(PlanExecute)\n",
    "\n",
    "# Add the plan node\n",
    "workflow.add_node(\"planner\", plan_step)\n",
    "\n",
    "# Add the execution step\n",
    "workflow.add_node(\"agent\", execute_step)\n",
    "\n",
    "# Add a replan node\n",
    "workflow.add_node(\"replan\", replan_step)\n",
    "\n",
    "workflow.set_entry_point(\"planner\")\n",
    "\n",
    "# From plan we go to agent\n",
    "workflow.add_edge(\"planner\", \"agent\")\n",
    "\n",
    "# From agent, we replan\n",
    "workflow.add_edge(\"agent\", \"replan\")\n",
    "\n",
    "workflow.add_conditional_edges(\n",
    "    \"replan\",\n",
    "    # Next, we pass in the function that will determine which node is called next.\n",
    "    should_end,\n",
    "    {\n",
    "        # If `tools`, then we call the tool node.\n",
    "        True: END,\n",
    "        False: \"agent\",\n",
    "    },\n",
    ")\n",
    "\n",
    "# Finally, we compile it!\n",
    "# This compiles it into a LangChain Runnable,\n",
    "# meaning you can use it as you would any other runnable\n",
    "app = workflow.compile()"
   ]
  },
  {
   "cell_type": "code",
   "execution_count": 46,
   "id": "b8ac1f67-e87a-427c-b4f7-44351295b788",
   "metadata": {},
   "outputs": [
    {
     "name": "stdout",
     "output_type": "stream",
     "text": [
      "{'plan': ['Find the name of the 2024 Australian Open winner.', 'Search for the hometown of the identified winner.']}\n",
      "{'past_steps': ('Find the name of the 2024 Australian Open winner.', 'The 2024 Australian Open has not concluded yet, as it is scheduled to take place from January 7 to January 28, 2024. Therefore, the winner has not been determined yet.')}\n",
      "output=Response(response='Since the 2024 Australian Open has not concluded yet and the winner has not been determined, it is not possible to identify the hometown of the 2024 Australian Open winner at this time.')\n",
      "{'response': 'Since the 2024 Australian Open has not concluded yet and the winner has not been determined, it is not possible to identify the hometown of the 2024 Australian Open winner at this time.'}\n"
     ]
    }
   ],
   "source": [
    "from langchain_core.messages import HumanMessage\n",
    "\n",
    "config = {\"recursion_limit\": 50}\n",
    "inputs = {\"input\": \"what is the hometown of the 2024 Australia open winner?\"}\n",
    "async for event in app.astream(inputs, config=config):\n",
    "    for k, v in event.items():\n",
    "        if k != \"__end__\":\n",
    "            print(v)"
   ]
  },
  {
   "cell_type": "markdown",
   "id": "8bf585a9-0f1e-4910-bd00-65e7bb05b6e6",
   "metadata": {},
   "source": [
    "## Conclusion\n",
    "\n",
    "Congrats on making a plan-and-execute agent! One known limitations of the above design is that each task is still executed in sequence, meaning embarassingly parallel operations all add to the total execution time. You could improve on this by having each task represented as a DAG (similar to LLMCompiler), rather than a regular list."
   ]
  },
  {
   "cell_type": "code",
   "execution_count": null,
   "id": "ad8f7955-2cc9-4ebb-8c41-13abb3351a24",
   "metadata": {},
   "outputs": [],
   "source": []
  }
 ],
 "metadata": {
  "kernelspec": {
   "display_name": "Python 3 (ipykernel)",
   "language": "python",
   "name": "python3"
  },
  "language_info": {
   "codemirror_mode": {
    "name": "ipython",
    "version": 3
   },
   "file_extension": ".py",
   "mimetype": "text/x-python",
   "name": "python",
   "nbconvert_exporter": "python",
   "pygments_lexer": "ipython3",
   "version": "3.10.13"
  }
 },
 "nbformat": 4,
 "nbformat_minor": 5
}

{
 "cells": [
  {
   "cell_type": "code",
   "execution_count": 5,
   "metadata": {},
   "outputs": [
    {
     "data": {
      "text/plain": [
       "True"
      ]
     },
     "execution_count": 5,
     "metadata": {},
     "output_type": "execute_result"
    }
   ],
   "source": [
    "import supabase\n",
    "import os\n",
    "from dotenv import load_dotenv\n",
    "from canvasapi import Canvas\n",
    "\n",
    "load_dotenv(\"../.env\")"
   ]
  },
  {
   "cell_type": "markdown",
   "metadata": {},
   "source": [
    "Canvas Integration"
   ]
  },
  {
   "cell_type": "code",
   "execution_count": 6,
   "metadata": {},
   "outputs": [],
   "source": [
    "api_url = \"https://canvas.illinois.edu\"\n",
    "api_key = os.getenv('CANVAS_ACCESS_TOKEN')\n",
    "\n",
    "canvas = Canvas(api_url, api_key)\n"
   ]
  },
  {
   "cell_type": "code",
   "execution_count": 7,
   "metadata": {},
   "outputs": [
    {
     "name": "stderr",
     "output_type": "stream",
     "text": [
      "2023-08-09 11:58:23,021:INFO - Request: GET https://canvas.illinois.edu/api/v1/courses/37348\n",
      "2023-08-09 11:58:23,869:INFO - Response: GET https://canvas.illinois.edu/api/v1/courses/37348 200\n"
     ]
    },
    {
     "data": {
      "text/plain": [
       "'DEVELOPMENT - AI Chatbot Canvas Integration'"
      ]
     },
     "execution_count": 7,
     "metadata": {},
     "output_type": "execute_result"
    }
   ],
   "source": [
    "course = canvas.get_course(37348)\n",
    "course.name"
   ]
  },
  {
   "cell_type": "markdown",
   "metadata": {},
   "source": [
    "Get all users enrolled in a course"
   ]
  },
  {
   "cell_type": "code",
   "execution_count": 8,
   "metadata": {},
   "outputs": [
    {
     "name": "stderr",
     "output_type": "stream",
     "text": [
      "2023-08-09 11:58:26,429:INFO - Request: GET https://canvas.illinois.edu/api/v1/courses/37348/search_users\n",
      "2023-08-09 11:58:27,170:INFO - Response: GET https://canvas.illinois.edu/api/v1/courses/37348/search_users 200\n"
     ]
    },
    {
     "name": "stdout",
     "output_type": "stream",
     "text": [
      "Shannon Bradley (91730)\n",
      "Asmita Vijay Dabholkar (115151)\n",
      "Kastan Day (119886)\n",
      "Volodymyr Kindratenko (61060)\n",
      "Rohan Marwaha (322674)\n",
      "Joshua Min (6609)\n",
      "Neha Sheth (334590)\n",
      "George Tamas (43681)\n"
     ]
    }
   ],
   "source": [
    "users = course.get_users()\n",
    "for user in users:\n",
    "    print(user)"
   ]
  },
  {
   "cell_type": "code",
   "execution_count": 22,
   "metadata": {},
   "outputs": [
    {
     "name": "stderr",
     "output_type": "stream",
     "text": [
      "2023-08-09 13:55:34,322:INFO - Request: GET https://canvas.illinois.edu/api/v1/users/115151\n",
      "2023-08-09 13:55:34,427:INFO - Response: GET https://canvas.illinois.edu/api/v1/users/115151 200\n"
     ]
    }
   ],
   "source": [
    "user = canvas.get_user(115151)"
   ]
  },
  {
   "cell_type": "code",
   "execution_count": 10,
   "metadata": {},
   "outputs": [
    {
     "name": "stderr",
     "output_type": "stream",
     "text": [
      "2023-08-09 11:58:32,872:INFO - Request: GET https://canvas.illinois.edu/api/v1/courses/37348/assignments\n",
      "2023-08-09 11:58:33,114:INFO - Response: GET https://canvas.illinois.edu/api/v1/courses/37348/assignments 200\n"
     ]
    }
   ],
   "source": [
    "assignments = course.get_assignments()\n",
    "for assignment in assignments:\n",
    "    print(assignment)"
   ]
  },
  {
   "cell_type": "code",
   "execution_count": 11,
   "metadata": {},
   "outputs": [
    {
     "name": "stderr",
     "output_type": "stream",
     "text": [
      "2023-08-09 11:58:35,407:INFO - Request: GET https://canvas.illinois.edu/api/v1/courses/37348/modules\n",
      "2023-08-09 11:58:35,757:INFO - Response: GET https://canvas.illinois.edu/api/v1/courses/37348/modules 200\n"
     ]
    }
   ],
   "source": [
    "files = course.get_modules()\n",
    "for file in files:\n",
    "    print(file)"
   ]
  },
  {
   "cell_type": "code",
   "execution_count": 22,
   "metadata": {},
   "outputs": [
    {
     "name": "stderr",
     "output_type": "stream",
     "text": [
      "2023-08-07 16:12:22,025:INFO - Request: GET https://canvas.illinois.edu/api/v1/courses/7308/modules/53303\n",
      "2023-08-07 16:12:22,267:INFO - Response: GET https://canvas.illinois.edu/api/v1/courses/7308/modules/53303 200\n",
      "2023-08-07 16:12:22,276:INFO - Request: GET https://canvas.illinois.edu/api/v1/courses/7308/modules/53303/items\n"
     ]
    },
    {
     "name": "stdout",
     "output_type": "stream",
     "text": [
      "Module 5: Accessible Word, Excel, PPT, and PDF (53303)\n"
     ]
    },
    {
     "name": "stderr",
     "output_type": "stream",
     "text": [
      "2023-08-07 16:12:22,473:INFO - Response: GET https://canvas.illinois.edu/api/v1/courses/7308/modules/53303/items 200\n"
     ]
    },
    {
     "name": "stdout",
     "output_type": "stream",
     "text": [
      "Module 5 Agenda (606083)\n",
      "Lesson 5-1 Accessible Word Training (606084)\n",
      "Lesson 5-1.1 Accessible Word Training Handout (606085)\n",
      "Lesson 5-1.2 Accessible Word Assignment (606086)\n",
      "Lesson 5-2 Accessible Excel Training (606087)\n",
      "Lesson 5-2.1 Accessible Excel Training Handout (606088)\n",
      "Lesson 5-2.2 Accessible Excel Assignment (606089)\n",
      "Lesson 5-3 Accessible PPT Training (606090)\n",
      "Lesson 5-3.1 Accessible PPT Training Handout (606091)\n",
      "Lesson 5-3.2 Accessible PPT Assignment (606092)\n",
      "Lesson 5-4 Accessible PDF Training (606093)\n",
      "Lesson 5-4.1 Accessible PDF Training Handout (606094)\n",
      "Lesson 5-4.2 Accessible PDF Assignment (606095)\n"
     ]
    }
   ],
   "source": [
    "module = course.get_module(53303)\n",
    "print(module)\n",
    "module_list = [ele for ele in module.get_module_items()]\n",
    "\n",
    "for i in module_list:\n",
    "    print(i)"
   ]
  },
  {
   "cell_type": "code",
   "execution_count": 29,
   "metadata": {},
   "outputs": [
    {
     "name": "stderr",
     "output_type": "stream",
     "text": [
      "2023-08-07 17:52:48,076:INFO - Request: GET https://canvas.illinois.edu/api/v1/courses/37348/files\n",
      "2023-08-07 17:52:48,216:INFO - Response: GET https://canvas.illinois.edu/api/v1/courses/37348/files 200\n"
     ]
    },
    {
     "name": "stdout",
     "output_type": "stream",
     "text": [
      "CAII Team Builds an AI-Powered Teaching Assistance Chatbot - Center for Artificial Intelligence Innovation.pdf\n"
     ]
    }
   ],
   "source": [
    "files = course.get_files()\n",
    "\n",
    "for f in files:\n",
    "    print(f)"
   ]
  },
  {
   "cell_type": "markdown",
   "metadata": {},
   "source": [
    "To-do:\n",
    "1. Get user emails and auto-enroll in uiuc-chat course\n",
    "2. Get access to files and other data and ingest in corresponding uiuc.chat course\n",
    "3. Get access to notifications about content addition and trigger data ingestion"
   ]
  },
  {
   "cell_type": "markdown",
   "metadata": {},
   "source": [
    "Getting users enrolled in course\n",
    "1. Get user ids from course \n",
    "2. Get user emails from ids"
   ]
  },
  {
   "cell_type": "code",
   "execution_count": 73,
   "metadata": {},
   "outputs": [
    {
     "name": "stderr",
     "output_type": "stream",
     "text": [
      "2023-08-10 13:39:00,846:INFO - Request: GET https://canvas.illinois.edu/api/v1/courses/37348\n",
      "2023-08-10 13:39:01,423:INFO - Response: GET https://canvas.illinois.edu/api/v1/courses/37348 200\n",
      "2023-08-10 13:39:01,433:INFO - Request: GET https://canvas.illinois.edu/api/v1/courses/37348/search_users\n",
      "2023-08-10 13:39:01,677:INFO - Response: GET https://canvas.illinois.edu/api/v1/courses/37348/search_users 200\n"
     ]
    },
    {
     "name": "stdout",
     "output_type": "stream",
     "text": [
      "sbrad77@illinois.edu\n",
      "avd6@illinois.edu\n",
      "kvday2@illinois.edu\n",
      "kindrtnk@illinois.edu\n",
      "rohan13@illinois.edu\n"
     ]
    },
    {
     "ename": "AttributeError",
     "evalue": "'User' object has no attribute 'email'",
     "output_type": "error",
     "traceback": [
      "\u001b[1;31m---------------------------------------------------------------------------\u001b[0m",
      "\u001b[1;31mAttributeError\u001b[0m                            Traceback (most recent call last)",
      "Cell \u001b[1;32mIn[73], line 6\u001b[0m\n\u001b[0;32m      4\u001b[0m users \u001b[39m=\u001b[39m course\u001b[39m.\u001b[39mget_users()\n\u001b[0;32m      5\u001b[0m \u001b[39mfor\u001b[39;00m user \u001b[39min\u001b[39;00m users:\n\u001b[1;32m----> 6\u001b[0m     \u001b[39mprint\u001b[39m(user\u001b[39m.\u001b[39;49memail)\n",
      "File \u001b[1;32mc:\\Users\\dabho\\anaconda3\\envs\\chatbot38\\lib\\site-packages\\canvasapi\\canvas_object.py:14\u001b[0m, in \u001b[0;36mCanvasObject.__getattribute__\u001b[1;34m(self, name)\u001b[0m\n\u001b[0;32m     13\u001b[0m \u001b[39mdef\u001b[39;00m \u001b[39m__getattribute__\u001b[39m(\u001b[39mself\u001b[39m, name):\n\u001b[1;32m---> 14\u001b[0m     \u001b[39mreturn\u001b[39;00m \u001b[39msuper\u001b[39;49m(CanvasObject, \u001b[39mself\u001b[39;49m)\u001b[39m.\u001b[39;49m\u001b[39m__getattribute__\u001b[39;49m(name)\n",
      "\u001b[1;31mAttributeError\u001b[0m: 'User' object has no attribute 'email'"
     ]
    }
   ],
   "source": [
    "course = canvas.get_course(37348)\n",
    "\n",
    "# get canvas IDs of all students in the course\n",
    "users = course.get_users()\n",
    "for user in users:\n",
    "    print(user.email)\n",
    "\n",
    "# get user object and obtain emails\n",
    "#user = canvas.get_user(115151)\n",
    "#print(user[\"email\"])\n",
    "# channels = user.get_communication_channels()\n",
    "# print(channels[0].address)\n",
    "# for channel in channels:\n",
    "#     print(channel)"
   ]
  },
  {
   "cell_type": "code",
   "execution_count": 55,
   "metadata": {},
   "outputs": [
    {
     "data": {
      "text/plain": [
       "<Response [401]>"
      ]
     },
     "execution_count": 55,
     "metadata": {},
     "output_type": "execute_result"
    }
   ],
   "source": [
    "import requests\n",
    "\n",
    "\n",
    "requests.get('https://canvas.illinois.edu/api/v1/users/115151/communication_channels')"
   ]
  },
  {
   "cell_type": "markdown",
   "metadata": {},
   "source": [
    "Accessing canvas course content"
   ]
  },
  {
   "cell_type": "code",
   "execution_count": 44,
   "metadata": {},
   "outputs": [
    {
     "name": "stderr",
     "output_type": "stream",
     "text": [
      "2023-08-08 15:38:47,426:INFO - Request: POST https://canvas.illinois.edu/api/v1/courses/37348/epub_exports/\n",
      "2023-08-08 15:38:48,144:INFO - Response: POST https://canvas.illinois.edu/api/v1/courses/37348/epub_exports/ 201\n"
     ]
    },
    {
     "data": {
      "text/plain": [
       "CourseEpubExport(_requester=<canvasapi.requester.Requester object at 0x000001DFB87B6490>, id=37348, name=DEVELOPMENT - AI Chatbot Canvas Integration, epub_export={'id': 983, 'content_export_id': None, 'course_id': 37348, 'user_id': 115151, 'workflow_state': 'created', 'created_at': '2023-08-08T20:38:47Z', 'updated_at': '2023-08-08T20:38:47Z', 'permissions': {'download': False, 'regenerate': False}, 'progress_id': 2451523, 'progress_url': 'https://canvas.illinois.edu/api/v1/progress/2451523'})"
      ]
     },
     "execution_count": 44,
     "metadata": {},
     "output_type": "execute_result"
    }
   ],
   "source": [
    "course.create_epub_export()"
   ]
  },
  {
   "cell_type": "code",
   "execution_count": 54,
   "metadata": {},
   "outputs": [
    {
     "name": "stderr",
     "output_type": "stream",
     "text": [
      "2023-08-08 16:10:46,184:INFO - Request: GET https://canvas.illinois.edu/api/v1/courses/37348/epub_exports/983\n",
      "2023-08-08 16:10:46,724:INFO - Response: GET https://canvas.illinois.edu/api/v1/courses/37348/epub_exports/983 200\n"
     ]
    }
   ],
   "source": [
    "export = course.get_epub_export(983)\n",
    "download_url = export.epub_export['epub_attachment']['url']"
   ]
  },
  {
   "cell_type": "code",
   "execution_count": 55,
   "metadata": {},
   "outputs": [],
   "source": [
    "import requests"
   ]
  },
  {
   "cell_type": "code",
   "execution_count": 56,
   "metadata": {},
   "outputs": [],
   "source": [
    "response = requests.get(download_url)\n",
    "\n",
    "if response.status_code == 200:\n",
    "    with open(\"file.epub\", \"wb\") as f:\n",
    "        f.write(response.content)\n",
    "else:\n",
    "    print(\"Download failed with status code {response.status_code} and message {response.text}\")"
   ]
  },
  {
   "cell_type": "code",
   "execution_count": 2,
   "metadata": {},
   "outputs": [
    {
     "name": "stdout",
     "output_type": "stream",
     "text": [
      "Collecting pypandoc_binary\n",
      "  Downloading pypandoc_binary-1.11-py3-none-win_amd64.whl (24.8 MB)\n",
      "                                              0.0/24.8 MB ? eta -:--:--\n",
      "                                              0.0/24.8 MB ? eta -:--:--\n",
      "                                             0.1/24.8 MB 544.7 kB/s eta 0:00:46\n",
      "                                              0.2/24.8 MB 1.7 MB/s eta 0:00:15\n",
      "                                              0.4/24.8 MB 2.3 MB/s eta 0:00:11\n",
      "                                              0.6/24.8 MB 2.6 MB/s eta 0:00:10\n",
      "     -                                        0.8/24.8 MB 3.0 MB/s eta 0:00:09\n",
      "     -                                        1.0/24.8 MB 3.1 MB/s eta 0:00:08\n",
      "     -                                        1.2/24.8 MB 3.1 MB/s eta 0:00:08\n",
      "     --                                       1.3/24.8 MB 3.1 MB/s eta 0:00:08\n",
      "     --                                       1.4/24.8 MB 2.9 MB/s eta 0:00:09\n",
      "     --                                       1.5/24.8 MB 3.0 MB/s eta 0:00:08\n",
      "     --                                       1.7/24.8 MB 2.9 MB/s eta 0:00:08\n",
      "     ---                                      1.9/24.8 MB 3.0 MB/s eta 0:00:08\n",
      "     ---                                      2.1/24.8 MB 3.1 MB/s eta 0:00:08\n",
      "     ---                                      2.3/24.8 MB 3.2 MB/s eta 0:00:08\n",
      "     ---                                      2.4/24.8 MB 3.2 MB/s eta 0:00:07\n",
      "     ----                                     2.6/24.8 MB 3.2 MB/s eta 0:00:07\n",
      "     ----                                     2.8/24.8 MB 3.2 MB/s eta 0:00:07\n",
      "     ----                                     3.0/24.8 MB 3.3 MB/s eta 0:00:07\n",
      "     -----                                    3.2/24.8 MB 3.3 MB/s eta 0:00:07\n",
      "     -----                                    3.4/24.8 MB 3.3 MB/s eta 0:00:07\n",
      "     -----                                    3.5/24.8 MB 3.4 MB/s eta 0:00:07\n",
      "     -----                                    3.7/24.8 MB 3.4 MB/s eta 0:00:07\n",
      "     ------                                   3.9/24.8 MB 3.4 MB/s eta 0:00:07\n",
      "     ------                                   4.1/24.8 MB 3.4 MB/s eta 0:00:07\n",
      "     ------                                   4.2/24.8 MB 3.4 MB/s eta 0:00:07\n",
      "     -------                                  4.4/24.8 MB 3.4 MB/s eta 0:00:06\n",
      "     -------                                  4.6/24.8 MB 3.4 MB/s eta 0:00:06\n",
      "     -------                                  4.7/24.8 MB 3.5 MB/s eta 0:00:06\n",
      "     -------                                  4.9/24.8 MB 3.5 MB/s eta 0:00:06\n",
      "     --------                                 5.1/24.8 MB 3.5 MB/s eta 0:00:06\n",
      "     --------                                 5.3/24.8 MB 3.5 MB/s eta 0:00:06\n",
      "     --------                                 5.5/24.8 MB 3.5 MB/s eta 0:00:06\n",
      "     ---------                                5.6/24.8 MB 3.5 MB/s eta 0:00:06\n",
      "     ---------                                5.8/24.8 MB 3.5 MB/s eta 0:00:06\n",
      "     ---------                                6.0/24.8 MB 3.5 MB/s eta 0:00:06\n",
      "     ----------                               6.2/24.8 MB 3.5 MB/s eta 0:00:06\n",
      "     ----------                               6.4/24.8 MB 3.5 MB/s eta 0:00:06\n",
      "     ----------                               6.6/24.8 MB 3.5 MB/s eta 0:00:06\n",
      "     ----------                               6.7/24.8 MB 3.6 MB/s eta 0:00:06\n",
      "     -----------                              7.0/24.8 MB 3.6 MB/s eta 0:00:06\n",
      "     -----------                              7.2/24.8 MB 3.6 MB/s eta 0:00:05\n",
      "     -----------                              7.4/24.8 MB 3.6 MB/s eta 0:00:05\n",
      "     ------------                             7.5/24.8 MB 3.6 MB/s eta 0:00:05\n",
      "     ------------                             7.6/24.8 MB 3.6 MB/s eta 0:00:05\n",
      "     ------------                             7.9/24.8 MB 3.6 MB/s eta 0:00:05\n",
      "     ------------                             8.0/24.8 MB 3.6 MB/s eta 0:00:05\n",
      "     -------------                            8.2/24.8 MB 3.6 MB/s eta 0:00:05\n",
      "     -------------                            8.4/24.8 MB 3.6 MB/s eta 0:00:05\n",
      "     -------------                            8.5/24.8 MB 3.6 MB/s eta 0:00:05\n",
      "     --------------                           8.7/24.8 MB 3.6 MB/s eta 0:00:05\n",
      "     --------------                           8.9/24.8 MB 3.6 MB/s eta 0:00:05\n",
      "     --------------                           9.1/24.8 MB 3.6 MB/s eta 0:00:05\n",
      "     ---------------                          9.3/24.8 MB 3.6 MB/s eta 0:00:05\n",
      "     ---------------                          9.4/24.8 MB 3.7 MB/s eta 0:00:05\n",
      "     ---------------                          9.5/24.8 MB 3.6 MB/s eta 0:00:05\n",
      "     ---------------                          9.7/24.8 MB 3.6 MB/s eta 0:00:05\n",
      "     ---------------                          9.9/24.8 MB 3.6 MB/s eta 0:00:05\n",
      "     ----------------                         10.0/24.8 MB 3.6 MB/s eta 0:00:05\n",
      "     ----------------                         10.1/24.8 MB 3.6 MB/s eta 0:00:05\n",
      "     ----------------                         10.3/24.8 MB 3.7 MB/s eta 0:00:04\n",
      "     -----------------                        10.5/24.8 MB 3.7 MB/s eta 0:00:04\n",
      "     -----------------                        10.7/24.8 MB 3.7 MB/s eta 0:00:04\n",
      "     -----------------                        10.9/24.8 MB 3.7 MB/s eta 0:00:04\n",
      "     -----------------                        11.1/24.8 MB 3.7 MB/s eta 0:00:04\n",
      "     ------------------                       11.4/24.8 MB 3.7 MB/s eta 0:00:04\n",
      "     ------------------                       11.6/24.8 MB 3.8 MB/s eta 0:00:04\n",
      "     -------------------                      11.8/24.8 MB 3.8 MB/s eta 0:00:04\n",
      "     -------------------                      12.0/24.8 MB 3.8 MB/s eta 0:00:04\n",
      "     -------------------                      12.2/24.8 MB 3.9 MB/s eta 0:00:04\n",
      "     --------------------                     12.5/24.8 MB 3.9 MB/s eta 0:00:04\n",
      "     --------------------                     12.7/24.8 MB 3.9 MB/s eta 0:00:04\n",
      "     --------------------                     12.9/24.8 MB 3.9 MB/s eta 0:00:04\n",
      "     ---------------------                    13.2/24.8 MB 3.9 MB/s eta 0:00:03\n",
      "     ---------------------                    13.4/24.8 MB 3.9 MB/s eta 0:00:03\n",
      "     ---------------------                    13.4/24.8 MB 3.9 MB/s eta 0:00:03\n",
      "     ----------------------                   13.6/24.8 MB 3.9 MB/s eta 0:00:03\n",
      "     ----------------------                   13.9/24.8 MB 4.0 MB/s eta 0:00:03\n",
      "     ----------------------                   14.1/24.8 MB 4.0 MB/s eta 0:00:03\n",
      "     -----------------------                  14.3/24.8 MB 4.0 MB/s eta 0:00:03\n",
      "     -----------------------                  14.6/24.8 MB 4.0 MB/s eta 0:00:03\n",
      "     -----------------------                  14.8/24.8 MB 4.0 MB/s eta 0:00:03\n",
      "     ------------------------                 15.0/24.8 MB 4.0 MB/s eta 0:00:03\n",
      "     ------------------------                 15.2/24.8 MB 4.0 MB/s eta 0:00:03\n",
      "     -------------------------                15.5/24.8 MB 4.1 MB/s eta 0:00:03\n",
      "     -------------------------                15.7/24.8 MB 4.1 MB/s eta 0:00:03\n",
      "     -------------------------                16.0/24.8 MB 4.1 MB/s eta 0:00:03\n",
      "     --------------------------               16.1/24.8 MB 4.1 MB/s eta 0:00:03\n",
      "     --------------------------               16.4/24.8 MB 4.2 MB/s eta 0:00:03\n",
      "     --------------------------               16.6/24.8 MB 4.2 MB/s eta 0:00:02\n",
      "     ---------------------------              16.8/24.8 MB 4.2 MB/s eta 0:00:02\n",
      "     ---------------------------              17.0/24.8 MB 4.2 MB/s eta 0:00:02\n",
      "     ---------------------------              17.2/24.8 MB 4.2 MB/s eta 0:00:02\n",
      "     ----------------------------             17.4/24.8 MB 4.2 MB/s eta 0:00:02\n",
      "     ----------------------------             17.6/24.8 MB 4.2 MB/s eta 0:00:02\n",
      "     ----------------------------             17.8/24.8 MB 4.3 MB/s eta 0:00:02\n",
      "     -----------------------------            18.0/24.8 MB 4.3 MB/s eta 0:00:02\n",
      "     -----------------------------            18.3/24.8 MB 4.3 MB/s eta 0:00:02\n",
      "     -----------------------------            18.3/24.8 MB 4.2 MB/s eta 0:00:02\n",
      "     -----------------------------            18.5/24.8 MB 4.2 MB/s eta 0:00:02\n",
      "     ------------------------------           18.7/24.8 MB 4.3 MB/s eta 0:00:02\n",
      "     ------------------------------           18.9/24.8 MB 4.2 MB/s eta 0:00:02\n",
      "     ------------------------------           19.1/24.8 MB 4.3 MB/s eta 0:00:02\n",
      "     -------------------------------          19.3/24.8 MB 4.3 MB/s eta 0:00:02\n",
      "     -------------------------------          19.5/24.8 MB 4.3 MB/s eta 0:00:02\n",
      "     -------------------------------          19.8/24.8 MB 4.4 MB/s eta 0:00:02\n",
      "     --------------------------------         20.0/24.8 MB 4.4 MB/s eta 0:00:02\n",
      "     --------------------------------         20.2/24.8 MB 4.4 MB/s eta 0:00:02\n",
      "     ---------------------------------        20.4/24.8 MB 4.5 MB/s eta 0:00:01\n",
      "     ---------------------------------        20.6/24.8 MB 4.5 MB/s eta 0:00:01\n",
      "     ---------------------------------        20.9/24.8 MB 4.5 MB/s eta 0:00:01\n",
      "     ----------------------------------       21.1/24.8 MB 4.5 MB/s eta 0:00:01\n",
      "     ----------------------------------       21.3/24.8 MB 4.5 MB/s eta 0:00:01\n",
      "     ----------------------------------       21.4/24.8 MB 4.5 MB/s eta 0:00:01\n",
      "     -----------------------------------      21.7/24.8 MB 4.5 MB/s eta 0:00:01\n",
      "     -----------------------------------      21.9/24.8 MB 4.5 MB/s eta 0:00:01\n",
      "     -----------------------------------      22.2/24.8 MB 4.5 MB/s eta 0:00:01\n",
      "     -----------------------------------      22.3/24.8 MB 4.5 MB/s eta 0:00:01\n",
      "     ------------------------------------     22.4/24.8 MB 4.4 MB/s eta 0:00:01\n",
      "     ------------------------------------     22.6/24.8 MB 4.4 MB/s eta 0:00:01\n",
      "     ------------------------------------     22.8/24.8 MB 4.4 MB/s eta 0:00:01\n",
      "     -------------------------------------    23.0/24.8 MB 4.3 MB/s eta 0:00:01\n",
      "     -------------------------------------    23.2/24.8 MB 4.4 MB/s eta 0:00:01\n",
      "     -------------------------------------    23.5/24.8 MB 4.4 MB/s eta 0:00:01\n",
      "     --------------------------------------   23.7/24.8 MB 4.5 MB/s eta 0:00:01\n",
      "     --------------------------------------   24.0/24.8 MB 4.4 MB/s eta 0:00:01\n",
      "     ---------------------------------------  24.2/24.8 MB 4.4 MB/s eta 0:00:01\n",
      "     ---------------------------------------  24.5/24.8 MB 4.4 MB/s eta 0:00:01\n",
      "     ---------------------------------------  24.7/24.8 MB 4.4 MB/s eta 0:00:01\n",
      "     ---------------------------------------  24.8/24.8 MB 4.4 MB/s eta 0:00:01\n",
      "     ---------------------------------------  24.8/24.8 MB 4.4 MB/s eta 0:00:01\n",
      "     ---------------------------------------- 24.8/24.8 MB 4.1 MB/s eta 0:00:00\n",
      "Installing collected packages: pypandoc_binary\n",
      "Successfully installed pypandoc_binary-1.11\n"
     ]
    }
   ],
   "source": [
    "# create a epub ingest and pass the file here\n",
    "!pip install pypandoc_binary\n"
   ]
  },
  {
   "cell_type": "code",
   "execution_count": 3,
   "metadata": {},
   "outputs": [],
   "source": [
    "from langchain.document_loaders import UnstructuredEPubLoader\n",
    "\n",
    "loader = UnstructuredEPubLoader(\"file.epub\")\n",
    "data = loader.load()\n",
    "\n"
   ]
  },
  {
   "cell_type": "code",
   "execution_count": 4,
   "metadata": {},
   "outputs": [
    {
     "name": "stdout",
     "output_type": "stream",
     "text": [
      "[Document(page_content='Table of Contents\\n\\nSyllabus\\n\\nAnnouncements\\n\\nCourse Content\\n\\nAssignments\\n\\nDiscussion Topics\\n\\nQuizzes\\n\\nPages\\n\\nSyllabus\\n\\nBack to Table of Contents\\n\\nAnnouncements\\n\\nWelcome!\\n\\nBack to Table of Contents\\n\\nWelcome!\\n\\nThis is a development Canvas for AI Chatbot project.\\n\\nBack to Announcements\\n\\nBack to Table of Contents\\n\\nAssignments\\n\\nBack to Table of Contents\\n\\nDiscussion Topics\\n\\nBack to Table of Contents\\n\\nQuizzes\\n\\nBack to Table of Contents\\n\\nPages\\n\\nBack to Table of Contents', metadata={'source': 'file.epub'})]\n"
     ]
    }
   ],
   "source": [
    "print(data)"
   ]
  },
  {
   "cell_type": "markdown",
   "metadata": {},
   "source": [
    "Accessing course notifications"
   ]
  },
  {
   "cell_type": "code",
   "execution_count": 39,
   "metadata": {},
   "outputs": [
    {
     "name": "stderr",
     "output_type": "stream",
     "text": [
      "2023-08-09 14:02:13,105:INFO - Request: GET https://canvas.illinois.edu/api/v1/users/115151/enrollments\n",
      "2023-08-09 14:02:13,331:INFO - Response: GET https://canvas.illinois.edu/api/v1/users/115151/enrollments 200\n"
     ]
    },
    {
     "name": "stdout",
     "output_type": "stream",
     "text": [
      "StudentEnrollment (446616)\n",
      "TeacherEnrollment (1201324)\n"
     ]
    }
   ],
   "source": [
    "courses = user.get_enrollments()\n",
    "\n",
    "for c in courses:\n",
    "    print(c)"
   ]
  },
  {
   "cell_type": "code",
   "execution_count": 43,
   "metadata": {},
   "outputs": [
    {
     "data": {
      "text/plain": [
       "<Response [401]>"
      ]
     },
     "execution_count": 43,
     "metadata": {},
     "output_type": "execute_result"
    }
   ],
   "source": [
    "import requests\n",
    "requests.get(\"https://canvas.illinois.edu/api/v1/accounts\")"
   ]
  },
  {
   "cell_type": "code",
   "execution_count": 76,
   "metadata": {},
   "outputs": [
    {
     "name": "stderr",
     "output_type": "stream",
     "text": [
      "2023-08-10 16:12:14,791:INFO - Request: GET https://canvas.illinois.edu/api/v1/courses/37348/files\n",
      "2023-08-10 16:12:15,822:INFO - Response: GET https://canvas.illinois.edu/api/v1/courses/37348/files 200\n"
     ]
    },
    {
     "name": "stdout",
     "output_type": "stream",
     "text": [
      "https://canvas.illinois.edu/files/9018482/download?download_frd=1&verifier=wR6cQzYreeNJk0otdXNkskp3fsYfdPAqpirlfCfJ\n"
     ]
    }
   ],
   "source": [
    "files = course.get_files()\n",
    "\n",
    "for file in files:\n",
    "    print(file.url)"
   ]
  },
  {
   "cell_type": "code",
   "execution_count": 85,
   "metadata": {},
   "outputs": [
    {
     "name": "stderr",
     "output_type": "stream",
     "text": [
      "2023-08-10 16:31:36,198:INFO - Request: GET https://canvas.illinois.edu/api/v1/courses/7308\n",
      "2023-08-10 16:31:36,328:INFO - Response: GET https://canvas.illinois.edu/api/v1/courses/7308 200\n",
      "2023-08-10 16:31:36,348:INFO - Request: GET https://canvas.illinois.edu/api/v1/courses/7308/modules\n"
     ]
    },
    {
     "name": "stdout",
     "output_type": "stream",
     "text": [
      "modules:  <PaginatedList of type Module>\n"
     ]
    },
    {
     "name": "stderr",
     "output_type": "stream",
     "text": [
      "2023-08-10 16:31:36,761:INFO - Response: GET https://canvas.illinois.edu/api/v1/courses/7308/modules 200\n"
     ]
    },
    {
     "name": "stdout",
     "output_type": "stream",
     "text": [
      "module:  https://canvas.illinois.edu/api/v1/courses/7308/modules/53298/items\n",
      "module:  https://canvas.illinois.edu/api/v1/courses/7308/modules/53299/items\n",
      "module:  https://canvas.illinois.edu/api/v1/courses/7308/modules/53300/items\n",
      "module:  https://canvas.illinois.edu/api/v1/courses/7308/modules/53301/items\n",
      "module:  https://canvas.illinois.edu/api/v1/courses/7308/modules/53302/items\n",
      "module:  https://canvas.illinois.edu/api/v1/courses/7308/modules/53303/items\n",
      "module:  https://canvas.illinois.edu/api/v1/courses/7308/modules/53304/items\n",
      "module:  https://canvas.illinois.edu/api/v1/courses/7308/modules/53305/items\n",
      "module:  https://canvas.illinois.edu/api/v1/courses/7308/modules/53306/items\n",
      "module:  https://canvas.illinois.edu/api/v1/courses/7308/modules/53307/items\n",
      "module:  https://canvas.illinois.edu/api/v1/courses/7308/modules/53308/items\n",
      "module:  https://canvas.illinois.edu/api/v1/courses/7308/modules/53309/items\n",
      "module:  https://canvas.illinois.edu/api/v1/courses/7308/modules/53310/items\n",
      "module:  https://canvas.illinois.edu/api/v1/courses/7308/modules/228904/items\n",
      "module:  https://canvas.illinois.edu/api/v1/courses/7308/modules/53311/items\n"
     ]
    }
   ],
   "source": [
    "course = canvas.get_course(7308)\n",
    "\n",
    "modules = course.get_modules()\n",
    "\n",
    "print(\"modules: \", modules)\n",
    "\n",
    "for module in modules:\n",
    "    print(\"module: \", module.items_url)"
   ]
  },
  {
   "cell_type": "code",
   "execution_count": 86,
   "metadata": {},
   "outputs": [
    {
     "ename": "AttributeError",
     "evalue": "'Course' object has no attribute 'start_content_export'",
     "output_type": "error",
     "traceback": [
      "\u001b[1;31m---------------------------------------------------------------------------\u001b[0m",
      "\u001b[1;31mAttributeError\u001b[0m                            Traceback (most recent call last)",
      "Cell \u001b[1;32mIn[86], line 1\u001b[0m\n\u001b[1;32m----> 1\u001b[0m export \u001b[39m=\u001b[39m course\u001b[39m.\u001b[39;49mstart_content_export()\n\u001b[0;32m      2\u001b[0m \u001b[39mprint\u001b[39m(export\u001b[39m.\u001b[39mprogress)\n",
      "File \u001b[1;32mc:\\Users\\dabho\\anaconda3\\envs\\chatbot38\\lib\\site-packages\\canvasapi\\canvas_object.py:14\u001b[0m, in \u001b[0;36mCanvasObject.__getattribute__\u001b[1;34m(self, name)\u001b[0m\n\u001b[0;32m     13\u001b[0m \u001b[39mdef\u001b[39;00m \u001b[39m__getattribute__\u001b[39m(\u001b[39mself\u001b[39m, name):\n\u001b[1;32m---> 14\u001b[0m     \u001b[39mreturn\u001b[39;00m \u001b[39msuper\u001b[39;49m(CanvasObject, \u001b[39mself\u001b[39;49m)\u001b[39m.\u001b[39;49m\u001b[39m__getattribute__\u001b[39;49m(name)\n",
      "\u001b[1;31mAttributeError\u001b[0m: 'Course' object has no attribute 'start_content_export'"
     ]
    }
   ],
   "source": [
    "\n"
   ]
  }
 ],
 "metadata": {
  "kernelspec": {
   "display_name": "chatbot38",
   "language": "python",
   "name": "python3"
  },
  "language_info": {
   "codemirror_mode": {
    "name": "ipython",
    "version": 3
   },
   "file_extension": ".py",
   "mimetype": "text/x-python",
   "name": "python",
   "nbconvert_exporter": "python",
   "pygments_lexer": "ipython3",
   "version": "3.8.16"
  },
  "orig_nbformat": 4
 },
 "nbformat": 4,
 "nbformat_minor": 2
}

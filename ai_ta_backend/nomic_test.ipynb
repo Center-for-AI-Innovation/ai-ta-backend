{
 "cells": [
  {
   "cell_type": "markdown",
   "metadata": {},
   "source": [
    "***Start of Main Code***"
   ]
  },
  {
   "cell_type": "code",
   "execution_count": 1,
   "metadata": {},
   "outputs": [
    {
     "name": "stderr",
     "output_type": "stream",
     "text": [
      "2023-08-24 20:06:03,902:INFO - Note: NumExpr detected 16 cores but \"NUMEXPR_MAX_THREADS\" not set, so enforcing safe limit of 8.\n",
      "2023-08-24 20:06:03,910:INFO - NumExpr defaulting to 8 threads.\n"
     ]
    }
   ],
   "source": [
    "# import required libraries\n",
    "\n",
    "import os\n",
    "import supabase\n",
    "from nomic import atlas\n",
    "from dotenv import load_dotenv\n",
    "from langchain.embeddings import OpenAIEmbeddings\n",
    "import numpy as np\n",
    "import time\n",
    "import pandas as pd"
   ]
  },
  {
   "cell_type": "code",
   "execution_count": 2,
   "metadata": {},
   "outputs": [
    {
     "data": {
      "text/plain": [
       "True"
      ]
     },
     "execution_count": 2,
     "metadata": {},
     "output_type": "execute_result"
    }
   ],
   "source": [
    "# loading environment variables\n",
    "\n",
    "env_path = \"../.env\"\n",
    "load_dotenv(dotenv_path=env_path)"
   ]
  },
  {
   "cell_type": "code",
   "execution_count": 3,
   "metadata": {},
   "outputs": [],
   "source": [
    "# initialize supabase client\n",
    "\n",
    "url = os.environ.get(\"SUPABASE_URL\")\n",
    "key = os.environ.get(\"SUPABASE_API_KEY\")\n",
    "\n",
    "supabase_client = supabase.create_client(url, key)"
   ]
  },
  {
   "cell_type": "code",
   "execution_count": 4,
   "metadata": {},
   "outputs": [],
   "source": [
    "courses_with_maps = ['gpt4', 'badm_550_ashley', 'ece120', 'badm-567-v3', 'new-weather', \n",
    "  'gies-online-mba-v2', 'frontend', 'ECE220FA23', 'ECE408FA23', 'ece408', 'farmdoc_test_kastan-v1', \n",
    "  'NPRE247', 'your-awesome-course', 'pract', 'ece120FL22', 'Law794-TransactionalDraftingAlam', \n",
    "  'NCSA', 'NCSADelta', 'NuclGPT-v1']"
   ]
  },
  {
   "cell_type": "code",
   "execution_count": 6,
   "metadata": {},
   "outputs": [],
   "source": [
    "#response = supabase_client.table(\"llm-convo-monitor\").select(\"*\").in_(\"course_name\", courses_with_maps).execute()\n",
    "response = supabase_client.table(\"llm-convo-monitor\").select(\"*\").execute()\n",
    "data = response.data"
   ]
  },
  {
   "cell_type": "code",
   "execution_count": 7,
   "metadata": {},
   "outputs": [
    {
     "data": {
      "text/html": [
       "<div>\n",
       "<style scoped>\n",
       "    .dataframe tbody tr th:only-of-type {\n",
       "        vertical-align: middle;\n",
       "    }\n",
       "\n",
       "    .dataframe tbody tr th {\n",
       "        vertical-align: top;\n",
       "    }\n",
       "\n",
       "    .dataframe thead th {\n",
       "        text-align: right;\n",
       "    }\n",
       "</style>\n",
       "<table border=\"1\" class=\"dataframe\">\n",
       "  <thead>\n",
       "    <tr style=\"text-align: right;\">\n",
       "      <th></th>\n",
       "      <th>id</th>\n",
       "      <th>created_at</th>\n",
       "      <th>convo</th>\n",
       "      <th>convo_id</th>\n",
       "      <th>course_name</th>\n",
       "      <th>user_email</th>\n",
       "    </tr>\n",
       "  </thead>\n",
       "  <tbody>\n",
       "    <tr>\n",
       "      <th>0</th>\n",
       "      <td>974</td>\n",
       "      <td>2023-06-27T20:27:40.04635+00:00</td>\n",
       "      <td>{'id': '6de7f780-2092-440a-92de-5b53fe830178',...</td>\n",
       "      <td>6de7f780-2092-440a-92de-5b53fe830178</td>\n",
       "      <td>gpt4</td>\n",
       "      <td>None</td>\n",
       "    </tr>\n",
       "    <tr>\n",
       "      <th>1</th>\n",
       "      <td>1136</td>\n",
       "      <td>2023-06-30T19:42:14.162925+00:00</td>\n",
       "      <td>{'id': '8cf2fbfd-4372-41d7-98c9-529b80355ea8',...</td>\n",
       "      <td>8cf2fbfd-4372-41d7-98c9-529b80355ea8</td>\n",
       "      <td>gpt4</td>\n",
       "      <td>None</td>\n",
       "    </tr>\n",
       "    <tr>\n",
       "      <th>2</th>\n",
       "      <td>15</td>\n",
       "      <td>2023-06-09T21:22:22.887494+00:00</td>\n",
       "      <td>{'id': '101c57bf-bdbc-4fb7-ba66-88f2da33a1c1',...</td>\n",
       "      <td>101c57bf-bdbc-4fb7-ba66-88f2da33a1c1</td>\n",
       "      <td>gpt4</td>\n",
       "      <td>None</td>\n",
       "    </tr>\n",
       "    <tr>\n",
       "      <th>3</th>\n",
       "      <td>232</td>\n",
       "      <td>2023-06-14T22:15:19.908152+00:00</td>\n",
       "      <td>{'id': '8c26597c-695b-41c5-abdd-6d2db138d3dd',...</td>\n",
       "      <td>8c26597c-695b-41c5-abdd-6d2db138d3dd</td>\n",
       "      <td>gpt4</td>\n",
       "      <td>None</td>\n",
       "    </tr>\n",
       "    <tr>\n",
       "      <th>4</th>\n",
       "      <td>55</td>\n",
       "      <td>2023-06-10T22:34:35.495748+00:00</td>\n",
       "      <td>{'id': '4e330d66-c6e4-4a5e-a613-2a049fa00bbe',...</td>\n",
       "      <td>4e330d66-c6e4-4a5e-a613-2a049fa00bbe</td>\n",
       "      <td>gpt4</td>\n",
       "      <td>None</td>\n",
       "    </tr>\n",
       "  </tbody>\n",
       "</table>\n",
       "</div>"
      ],
      "text/plain": [
       "     id                        created_at  \\\n",
       "0   974   2023-06-27T20:27:40.04635+00:00   \n",
       "1  1136  2023-06-30T19:42:14.162925+00:00   \n",
       "2    15  2023-06-09T21:22:22.887494+00:00   \n",
       "3   232  2023-06-14T22:15:19.908152+00:00   \n",
       "4    55  2023-06-10T22:34:35.495748+00:00   \n",
       "\n",
       "                                               convo  \\\n",
       "0  {'id': '6de7f780-2092-440a-92de-5b53fe830178',...   \n",
       "1  {'id': '8cf2fbfd-4372-41d7-98c9-529b80355ea8',...   \n",
       "2  {'id': '101c57bf-bdbc-4fb7-ba66-88f2da33a1c1',...   \n",
       "3  {'id': '8c26597c-695b-41c5-abdd-6d2db138d3dd',...   \n",
       "4  {'id': '4e330d66-c6e4-4a5e-a613-2a049fa00bbe',...   \n",
       "\n",
       "                               convo_id course_name user_email  \n",
       "0  6de7f780-2092-440a-92de-5b53fe830178        gpt4       None  \n",
       "1  8cf2fbfd-4372-41d7-98c9-529b80355ea8        gpt4       None  \n",
       "2  101c57bf-bdbc-4fb7-ba66-88f2da33a1c1        gpt4       None  \n",
       "3  8c26597c-695b-41c5-abdd-6d2db138d3dd        gpt4       None  \n",
       "4  4e330d66-c6e4-4a5e-a613-2a049fa00bbe        gpt4       None  "
      ]
     },
     "execution_count": 7,
     "metadata": {},
     "output_type": "execute_result"
    }
   ],
   "source": [
    "df = pd.DataFrame(data)\n",
    "df.head()"
   ]
  },
  {
   "cell_type": "code",
   "execution_count": 26,
   "metadata": {},
   "outputs": [
    {
     "data": {
      "text/plain": [
       "1460"
      ]
     },
     "execution_count": 26,
     "metadata": {},
     "output_type": "execute_result"
    }
   ],
   "source": [
    "# querying conversation data from supabase\n",
    "\n",
    "response = supabase_client.table(\"llm-convo-monitor\").select(\"*\").limit(2000).execute()\n",
    "data = response.data\n",
    "len(data)"
   ]
  },
  {
   "cell_type": "code",
   "execution_count": 27,
   "metadata": {},
   "outputs": [
    {
     "data": {
      "text/html": [
       "<div>\n",
       "<style scoped>\n",
       "    .dataframe tbody tr th:only-of-type {\n",
       "        vertical-align: middle;\n",
       "    }\n",
       "\n",
       "    .dataframe tbody tr th {\n",
       "        vertical-align: top;\n",
       "    }\n",
       "\n",
       "    .dataframe thead th {\n",
       "        text-align: right;\n",
       "    }\n",
       "</style>\n",
       "<table border=\"1\" class=\"dataframe\">\n",
       "  <thead>\n",
       "    <tr style=\"text-align: right;\">\n",
       "      <th></th>\n",
       "      <th>id</th>\n",
       "      <th>created_at</th>\n",
       "      <th>convo</th>\n",
       "      <th>convo_id</th>\n",
       "      <th>course_name</th>\n",
       "      <th>user_email</th>\n",
       "    </tr>\n",
       "  </thead>\n",
       "  <tbody>\n",
       "    <tr>\n",
       "      <th>0</th>\n",
       "      <td>974</td>\n",
       "      <td>2023-06-27T20:27:40.04635+00:00</td>\n",
       "      <td>{'id': '6de7f780-2092-440a-92de-5b53fe830178',...</td>\n",
       "      <td>6de7f780-2092-440a-92de-5b53fe830178</td>\n",
       "      <td>gpt4</td>\n",
       "      <td>None</td>\n",
       "    </tr>\n",
       "    <tr>\n",
       "      <th>1</th>\n",
       "      <td>1136</td>\n",
       "      <td>2023-06-30T19:42:14.162925+00:00</td>\n",
       "      <td>{'id': '8cf2fbfd-4372-41d7-98c9-529b80355ea8',...</td>\n",
       "      <td>8cf2fbfd-4372-41d7-98c9-529b80355ea8</td>\n",
       "      <td>gpt4</td>\n",
       "      <td>None</td>\n",
       "    </tr>\n",
       "    <tr>\n",
       "      <th>2</th>\n",
       "      <td>15</td>\n",
       "      <td>2023-06-09T21:22:22.887494+00:00</td>\n",
       "      <td>{'id': '101c57bf-bdbc-4fb7-ba66-88f2da33a1c1',...</td>\n",
       "      <td>101c57bf-bdbc-4fb7-ba66-88f2da33a1c1</td>\n",
       "      <td>gpt4</td>\n",
       "      <td>None</td>\n",
       "    </tr>\n",
       "    <tr>\n",
       "      <th>3</th>\n",
       "      <td>232</td>\n",
       "      <td>2023-06-14T22:15:19.908152+00:00</td>\n",
       "      <td>{'id': '8c26597c-695b-41c5-abdd-6d2db138d3dd',...</td>\n",
       "      <td>8c26597c-695b-41c5-abdd-6d2db138d3dd</td>\n",
       "      <td>gpt4</td>\n",
       "      <td>None</td>\n",
       "    </tr>\n",
       "    <tr>\n",
       "      <th>4</th>\n",
       "      <td>55</td>\n",
       "      <td>2023-06-10T22:34:35.495748+00:00</td>\n",
       "      <td>{'id': '4e330d66-c6e4-4a5e-a613-2a049fa00bbe',...</td>\n",
       "      <td>4e330d66-c6e4-4a5e-a613-2a049fa00bbe</td>\n",
       "      <td>gpt4</td>\n",
       "      <td>None</td>\n",
       "    </tr>\n",
       "  </tbody>\n",
       "</table>\n",
       "</div>"
      ],
      "text/plain": [
       "     id                        created_at  \\\n",
       "0   974   2023-06-27T20:27:40.04635+00:00   \n",
       "1  1136  2023-06-30T19:42:14.162925+00:00   \n",
       "2    15  2023-06-09T21:22:22.887494+00:00   \n",
       "3   232  2023-06-14T22:15:19.908152+00:00   \n",
       "4    55  2023-06-10T22:34:35.495748+00:00   \n",
       "\n",
       "                                               convo  \\\n",
       "0  {'id': '6de7f780-2092-440a-92de-5b53fe830178',...   \n",
       "1  {'id': '8cf2fbfd-4372-41d7-98c9-529b80355ea8',...   \n",
       "2  {'id': '101c57bf-bdbc-4fb7-ba66-88f2da33a1c1',...   \n",
       "3  {'id': '8c26597c-695b-41c5-abdd-6d2db138d3dd',...   \n",
       "4  {'id': '4e330d66-c6e4-4a5e-a613-2a049fa00bbe',...   \n",
       "\n",
       "                               convo_id course_name user_email  \n",
       "0  6de7f780-2092-440a-92de-5b53fe830178        gpt4       None  \n",
       "1  8cf2fbfd-4372-41d7-98c9-529b80355ea8        gpt4       None  \n",
       "2  101c57bf-bdbc-4fb7-ba66-88f2da33a1c1        gpt4       None  \n",
       "3  8c26597c-695b-41c5-abdd-6d2db138d3dd        gpt4       None  \n",
       "4  4e330d66-c6e4-4a5e-a613-2a049fa00bbe        gpt4       None  "
      ]
     },
     "execution_count": 27,
     "metadata": {},
     "output_type": "execute_result"
    }
   ],
   "source": [
    "# convert into dataframe\n",
    "\n",
    "df = pd.DataFrame(data)\n",
    "df.head()"
   ]
  },
  {
   "cell_type": "code",
   "execution_count": 28,
   "metadata": {},
   "outputs": [
    {
     "data": {
      "text/plain": [
       "126"
      ]
     },
     "execution_count": 28,
     "metadata": {},
     "output_type": "execute_result"
    }
   ],
   "source": [
    "# list of course names\n",
    "\n",
    "course_names = df['course_name'].unique()\n",
    "len(course_names)"
   ]
  },
  {
   "cell_type": "code",
   "execution_count": 29,
   "metadata": {},
   "outputs": [
    {
     "data": {
      "text/plain": [
       "array(['gpt4', 'badm_550_ashley', None, 'ece120', 'test-video-ingest',\n",
       "       'badm-567-v3', 'badm-567', 'new-weather', 'gies-online-mba-v2',\n",
       "       'frontend', 'test-video-ingest-28', 'ECE220FA23', 'ECE408FA23',\n",
       "       'pdeploy999', 'badm-350-summer', 'previewtesting1', 'localtest2',\n",
       "       'your-favorite-url', 'mantine', 'ece408', 'test-video-ingest-2',\n",
       "       'Snowmass', 'badm_567_v2', 'erpnext', 'mip',\n",
       "       'farmdoc_test_kastan-v1', 'personalstatement', 'hrc', 'csv',\n",
       "       'star_nox', 'badm_567', 'SPaRCEd', 'NPRE247', 'localdemo8',\n",
       "       'badm_567_thumbnails', 'your-awesome-course', 'chatbot', 'erp',\n",
       "       'extreme', 'rohan_atree', 'zotero-extreme', 'pract',\n",
       "       'gies-online-mba2', 'gies-online-mba', 'ece120FL22',\n",
       "       'careerassistant', 'weather', 'lillian-wang-blog', 'local-test5',\n",
       "       'demo-for-vyriad', 'rtest', 'previewdeploy', 'r2test',\n",
       "       'Law794-TransactionalDraftingAlam', 'personal-statement',\n",
       "       'rohan_excel', 'langchain-python', 'langchain', 'ncsa-live-demo',\n",
       "       'rohan_atree_individual', 'HealthyLivingGuide', 'rohan', 'babreu',\n",
       "       'test-video-ingest-31', 'p', 'test-video-ingest-17', 'summary',\n",
       "       'test-video-ingest-3', 'test-video-ingest-27',\n",
       "       'lillian-wang-blog-2', 'python-magic', 'ansible2', 'ece408fa23',\n",
       "       'farmdoc_test_josh_v2', 'local-test3', 'automata', 'NCSA',\n",
       "       'SpaceFlorida-GT', 'NCSADelta', 'GBSI-GT', 'newnew_ncsa', 'canvas',\n",
       "       'gbsi-gt', 'meditation-tutorial', 'profit', 'ansible',\n",
       "       'langchain-docs', 'testing_url_metadata_josh',\n",
       "       'test-india-biodiversity', 'test-video-ingest-20', 'vyriad',\n",
       "       'irc-workplans', 'kastanasdfasdfasdf', 'BADM-567-GT', 'mdt',\n",
       "       'vercel', 'ag-gpt-beta', 'gies-graduate-hub',\n",
       "       'test-video-ingest-12', 'NuclGPT-v1', 'test-video-ingest-13',\n",
       "       'Gies-graduate-hub', 'test_new_supa_scrape', 'doe-ascr-2023',\n",
       "       'meta11-test', 'arize', 'final-meta-test', 'preview-meta-test',\n",
       "       'gies-online-mba-V3', 'FoF-Drawdown-from-INVPEIV-5-24-23',\n",
       "       'FIN574-GT', 'test-video-ingest-30', 'test', 'NCSA-v2',\n",
       "       'conversational', 'clowder-docs', 'test-video-ingest-21',\n",
       "       'test-video-ingest-25', 'test-ingest-10', 'eric-test-course',\n",
       "       'farmdoc-test', 'test-video-ingest-22', 'testing_newest_split',\n",
       "       'Academic-paper', 'starwars', 'AdamDemo'], dtype=object)"
      ]
     },
     "execution_count": 29,
     "metadata": {},
     "output_type": "execute_result"
    }
   ],
   "source": [
    "course_names"
   ]
  },
  {
   "cell_type": "code",
   "execution_count": 124,
   "metadata": {},
   "outputs": [],
   "source": [
    "# initialize langchain OpenAI embeddings model\n",
    "\n",
    "embeddings_model = OpenAIEmbeddings()"
   ]
  },
  {
   "cell_type": "code",
   "execution_count": 32,
   "metadata": {},
   "outputs": [
    {
     "name": "stdout",
     "output_type": "stream",
     "text": [
      "gpt4\n",
      "course name:  gpt4\n",
      "1753\n",
      "badm_550_ashley\n",
      "course name:  badm_550_ashley\n",
      "51\n",
      "ece120\n",
      "course name:  ece120\n",
      "282\n",
      "test-video-ingest\n",
      "course name:  test-video-ingest\n",
      "16\n",
      "badm-567-v3\n",
      "course name:  badm-567-v3\n",
      "27\n",
      "badm-567\n",
      "course name:  badm-567\n",
      "5\n",
      "new-weather\n",
      "course name:  new-weather\n",
      "100\n",
      "gies-online-mba-v2\n",
      "course name:  gies-online-mba-v2\n",
      "52\n",
      "frontend\n",
      "course name:  frontend\n",
      "24\n",
      "test-video-ingest-28\n",
      "course name:  test-video-ingest-28\n",
      "1\n",
      "ECE220FA23\n",
      "course name:  ECE220FA23\n",
      "147\n",
      "ECE408FA23\n",
      "course name:  ECE408FA23\n",
      "432\n",
      "pdeploy999\n",
      "course name:  pdeploy999\n",
      "3\n",
      "badm-350-summer\n",
      "course name:  badm-350-summer\n",
      "15\n",
      "previewtesting1\n",
      "course name:  previewtesting1\n",
      "2\n",
      "localtest2\n",
      "course name:  localtest2\n",
      "2\n",
      "your-favorite-url\n",
      "course name:  your-favorite-url\n",
      "3\n",
      "mantine\n",
      "course name:  mantine\n",
      "9\n",
      "ece408\n",
      "course name:  ece408\n",
      "61\n",
      "test-video-ingest-2\n",
      "course name:  test-video-ingest-2\n",
      "3\n",
      "Snowmass\n",
      "course name:  Snowmass\n",
      "10\n",
      "badm_567_v2\n",
      "course name:  badm_567_v2\n",
      "19\n",
      "erpnext\n",
      "course name:  erpnext\n",
      "2\n",
      "mip\n",
      "course name:  mip\n",
      "2\n",
      "farmdoc_test_kastan-v1\n",
      "course name:  farmdoc_test_kastan-v1\n",
      "20\n",
      "personalstatement\n",
      "course name:  personalstatement\n",
      "15\n",
      "hrc\n",
      "course name:  hrc\n",
      "19\n",
      "csv\n",
      "course name:  csv\n",
      "11\n",
      "star_nox\n",
      "course name:  star_nox\n",
      "16\n",
      "badm_567\n",
      "course name:  badm_567\n",
      "7\n",
      "SPaRCEd\n",
      "course name:  SPaRCEd\n",
      "2\n",
      "NPRE247\n",
      "course name:  NPRE247\n",
      "36\n",
      "localdemo8\n",
      "course name:  localdemo8\n",
      "8\n",
      "badm_567_thumbnails\n",
      "course name:  badm_567_thumbnails\n",
      "3\n",
      "your-awesome-course\n",
      "course name:  your-awesome-course\n",
      "23\n",
      "chatbot\n",
      "course name:  chatbot\n",
      "4\n",
      "erp\n",
      "course name:  erp\n",
      "6\n",
      "extreme\n",
      "course name:  extreme\n",
      "5\n",
      "rohan_atree\n",
      "course name:  rohan_atree\n",
      "8\n",
      "zotero-extreme\n",
      "course name:  zotero-extreme\n",
      "10\n",
      "pract\n",
      "course name:  pract\n",
      "44\n",
      "gies-online-mba2\n",
      "course name:  gies-online-mba2\n",
      "2\n",
      "gies-online-mba\n",
      "course name:  gies-online-mba\n",
      "5\n",
      "ece120FL22\n",
      "course name:  ece120FL22\n",
      "53\n",
      "careerassistant\n",
      "course name:  careerassistant\n",
      "15\n",
      "weather\n",
      "course name:  weather\n",
      "4\n",
      "lillian-wang-blog\n",
      "course name:  lillian-wang-blog\n",
      "2\n",
      "local-test5\n",
      "course name:  local-test5\n",
      "9\n",
      "demo-for-vyriad\n",
      "course name:  demo-for-vyriad\n",
      "16\n",
      "rtest\n",
      "course name:  rtest\n",
      "1\n",
      "previewdeploy\n",
      "course name:  previewdeploy\n",
      "4\n",
      "r2test\n",
      "course name:  r2test\n",
      "1\n",
      "Law794-TransactionalDraftingAlam\n",
      "course name:  Law794-TransactionalDraftingAlam\n",
      "21\n",
      "personal-statement\n",
      "course name:  personal-statement\n",
      "9\n",
      "rohan_excel\n",
      "course name:  rohan_excel\n",
      "1\n",
      "langchain-python\n",
      "course name:  langchain-python\n",
      "4\n",
      "langchain\n",
      "course name:  langchain\n",
      "11\n",
      "ncsa-live-demo\n",
      "course name:  ncsa-live-demo\n",
      "1\n",
      "rohan_atree_individual\n",
      "course name:  rohan_atree_individual\n",
      "6\n",
      "HealthyLivingGuide\n",
      "course name:  HealthyLivingGuide\n",
      "4\n",
      "rohan\n",
      "course name:  rohan\n",
      "11\n",
      "babreu\n",
      "course name:  babreu\n",
      "6\n",
      "test-video-ingest-31\n",
      "course name:  test-video-ingest-31\n",
      "2\n",
      "p\n",
      "course name:  p\n",
      "3\n",
      "test-video-ingest-17\n",
      "course name:  test-video-ingest-17\n",
      "2\n",
      "summary\n",
      "course name:  summary\n",
      "11\n",
      "test-video-ingest-3\n",
      "course name:  test-video-ingest-3\n",
      "9\n",
      "test-video-ingest-27\n",
      "course name:  test-video-ingest-27\n",
      "5\n",
      "lillian-wang-blog-2\n",
      "course name:  lillian-wang-blog-2\n",
      "1\n",
      "python-magic\n",
      "course name:  python-magic\n",
      "5\n",
      "ansible2\n",
      "course name:  ansible2\n",
      "5\n",
      "ece408fa23\n",
      "course name:  ece408fa23\n",
      "15\n",
      "farmdoc_test_josh_v2\n",
      "course name:  farmdoc_test_josh_v2\n",
      "2\n",
      "local-test3\n",
      "course name:  local-test3\n",
      "2\n",
      "automata\n",
      "course name:  automata\n",
      "3\n",
      "NCSA\n",
      "course name:  NCSA\n",
      "80\n",
      "SpaceFlorida-GT\n",
      "course name:  SpaceFlorida-GT\n",
      "15\n",
      "NCSADelta\n",
      "course name:  NCSADelta\n",
      "22\n",
      "GBSI-GT\n",
      "course name:  GBSI-GT\n",
      "6\n",
      "newnew_ncsa\n",
      "course name:  newnew_ncsa\n",
      "2\n",
      "canvas\n",
      "course name:  canvas\n",
      "10\n",
      "gbsi-gt\n",
      "course name:  gbsi-gt\n",
      "5\n",
      "meditation-tutorial\n",
      "course name:  meditation-tutorial\n",
      "2\n",
      "profit\n",
      "course name:  profit\n",
      "1\n",
      "ansible\n",
      "course name:  ansible\n",
      "15\n",
      "langchain-docs\n",
      "course name:  langchain-docs\n",
      "18\n",
      "testing_url_metadata_josh\n",
      "course name:  testing_url_metadata_josh\n",
      "15\n",
      "test-india-biodiversity\n",
      "course name:  test-india-biodiversity\n",
      "1\n",
      "test-video-ingest-20\n",
      "course name:  test-video-ingest-20\n",
      "1\n",
      "vyriad\n",
      "course name:  vyriad\n",
      "4\n",
      "irc-workplans\n",
      "course name:  irc-workplans\n",
      "5\n",
      "kastanasdfasdfasdf\n",
      "course name:  kastanasdfasdfasdf\n",
      "1\n",
      "BADM-567-GT\n",
      "course name:  BADM-567-GT\n",
      "5\n",
      "mdt\n",
      "course name:  mdt\n",
      "1\n",
      "vercel\n",
      "course name:  vercel\n",
      "1\n",
      "ag-gpt-beta\n",
      "course name:  ag-gpt-beta\n",
      "4\n",
      "gies-graduate-hub\n",
      "course name:  gies-graduate-hub\n",
      "9\n",
      "test-video-ingest-12\n",
      "course name:  test-video-ingest-12\n",
      "5\n",
      "NuclGPT-v1\n",
      "course name:  NuclGPT-v1\n",
      "25\n",
      "test-video-ingest-13\n",
      "course name:  test-video-ingest-13\n",
      "1\n",
      "Gies-graduate-hub\n",
      "course name:  Gies-graduate-hub\n",
      "3\n",
      "test_new_supa_scrape\n",
      "course name:  test_new_supa_scrape\n",
      "5\n",
      "doe-ascr-2023\n",
      "course name:  doe-ascr-2023\n",
      "7\n",
      "meta11-test\n",
      "course name:  meta11-test\n",
      "4\n",
      "arize\n",
      "course name:  arize\n",
      "3\n",
      "final-meta-test\n",
      "course name:  final-meta-test\n",
      "2\n",
      "preview-meta-test\n",
      "course name:  preview-meta-test\n",
      "2\n",
      "gies-online-mba-V3\n",
      "course name:  gies-online-mba-V3\n",
      "7\n",
      "FoF-Drawdown-from-INVPEIV-5-24-23\n",
      "course name:  FoF-Drawdown-from-INVPEIV-5-24-23\n",
      "4\n",
      "FIN574-GT\n",
      "course name:  FIN574-GT\n",
      "6\n",
      "test-video-ingest-30\n",
      "course name:  test-video-ingest-30\n",
      "1\n",
      "test\n",
      "course name:  test\n",
      "1\n",
      "NCSA-v2\n",
      "course name:  NCSA-v2\n",
      "3\n",
      "conversational\n",
      "course name:  conversational\n",
      "2\n",
      "clowder-docs\n",
      "course name:  clowder-docs\n",
      "8\n",
      "test-video-ingest-21\n",
      "course name:  test-video-ingest-21\n",
      "3\n",
      "test-video-ingest-25\n",
      "course name:  test-video-ingest-25\n",
      "1\n",
      "test-ingest-10\n",
      "course name:  test-ingest-10\n",
      "1\n",
      "eric-test-course\n",
      "course name:  eric-test-course\n",
      "6\n",
      "farmdoc-test\n",
      "course name:  farmdoc-test\n",
      "2\n",
      "test-video-ingest-22\n",
      "course name:  test-video-ingest-22\n",
      "2\n",
      "testing_newest_split\n",
      "course name:  testing_newest_split\n",
      "3\n",
      "Academic-paper\n",
      "course name:  Academic-paper\n",
      "3\n",
      "starwars\n",
      "course name:  starwars\n",
      "3\n",
      "AdamDemo\n",
      "course name:  AdamDemo\n",
      "1\n"
     ]
    }
   ],
   "source": [
    "# main cell to extract course wise data and create individual maps\n",
    "\n",
    "i = 1\n",
    "skipped_courses = []\n",
    "for course in course_names:\n",
    "    if course is None:\n",
    "        continue\n",
    "\n",
    "    # get all queries for a course and create metadata\n",
    "    user_queries = []\n",
    "    metadata = []\n",
    "    course_df = df[df['course_name'] == course]['convo']\n",
    "    print(course)\n",
    "\n",
    "    for convo in course_df:\n",
    "        # get all messages for a conversation\n",
    "        messages = convo['messages']\n",
    "\n",
    "        # get user queries out of the messages\n",
    "        for m in messages:\n",
    "            if m['role'] == 'user' and m['content'] != '':\n",
    "                user_queries.append(m['content'])\n",
    "                metadata.append({'course_name': course, 'query': m['content'], 'id': i})\n",
    "                i += 1\n",
    "    print(\"course name: \", course)\n",
    "    print(len(user_queries))\n",
    "    if len(user_queries) < 20: # Nomic requires at least 20 queries to create a map\n",
    "        skipped_courses.append(course)\n",
    "        continue\n",
    "    \n",
    "    # # point where one course is done\n",
    "    # # convert query and context to embeddings\n",
    "    # metadata = pd.DataFrame(metadata)\n",
    "    # embeddings = embeddings_model.embed_documents(user_queries)\n",
    "    # embeddings = np.array(embeddings)\n",
    "    # print(embeddings.shape)\n",
    "\n",
    "    # # create an Atlas project\n",
    "    # project_name = \"Queries for \" + course\n",
    "    # index_name = course + \"_index\"\n",
    "    # project = atlas.map_embeddings(embeddings=np.array(embeddings),\n",
    "    #                             data=metadata,\n",
    "    #                             id_field='id',\n",
    "    #                             build_topic_model=True,\n",
    "    #                             topic_label_field='query',\n",
    "    #                             name=project_name,\n",
    "    #                             colorable_fields=['query'])\n",
    "    # print(project.maps)\n",
    "\n",
    "    # project.create_index(index_name, build_topic_model=True)\n",
    "    # #break\n",
    "\n"
   ]
  },
  {
   "cell_type": "code",
   "execution_count": 33,
   "metadata": {},
   "outputs": [
    {
     "name": "stdout",
     "output_type": "stream",
     "text": [
      "106\n",
      "['test-video-ingest', 'badm-567', 'test-video-ingest-28', 'pdeploy999', 'badm-350-summer', 'previewtesting1', 'localtest2', 'your-favorite-url', 'mantine', 'test-video-ingest-2', 'Snowmass', 'badm_567_v2', 'erpnext', 'mip', 'personalstatement', 'hrc', 'csv', 'star_nox', 'badm_567', 'SPaRCEd', 'localdemo8', 'badm_567_thumbnails', 'chatbot', 'erp', 'extreme', 'rohan_atree', 'zotero-extreme', 'gies-online-mba2', 'gies-online-mba', 'careerassistant', 'weather', 'lillian-wang-blog', 'local-test5', 'demo-for-vyriad', 'rtest', 'previewdeploy', 'r2test', 'personal-statement', 'rohan_excel', 'langchain-python', 'langchain', 'ncsa-live-demo', 'rohan_atree_individual', 'HealthyLivingGuide', 'rohan', 'babreu', 'test-video-ingest-31', 'p', 'test-video-ingest-17', 'summary', 'test-video-ingest-3', 'test-video-ingest-27', 'lillian-wang-blog-2', 'python-magic', 'ansible2', 'ece408fa23', 'farmdoc_test_josh_v2', 'local-test3', 'automata', 'SpaceFlorida-GT', 'GBSI-GT', 'newnew_ncsa', 'canvas', 'gbsi-gt', 'meditation-tutorial', 'profit', 'ansible', 'langchain-docs', 'testing_url_metadata_josh', 'test-india-biodiversity', 'test-video-ingest-20', 'vyriad', 'irc-workplans', 'kastanasdfasdfasdf', 'BADM-567-GT', 'mdt', 'vercel', 'ag-gpt-beta', 'gies-graduate-hub', 'test-video-ingest-12', 'test-video-ingest-13', 'Gies-graduate-hub', 'test_new_supa_scrape', 'doe-ascr-2023', 'meta11-test', 'arize', 'final-meta-test', 'preview-meta-test', 'gies-online-mba-V3', 'FoF-Drawdown-from-INVPEIV-5-24-23', 'FIN574-GT', 'test-video-ingest-30', 'test', 'NCSA-v2', 'conversational', 'clowder-docs', 'test-video-ingest-21', 'test-video-ingest-25', 'test-ingest-10', 'eric-test-course', 'farmdoc-test', 'test-video-ingest-22', 'testing_newest_split', 'Academic-paper', 'starwars', 'AdamDemo']\n"
     ]
    }
   ],
   "source": [
    "# skipped courses with < 20 data points/queries\n",
    "\n",
    "print(len(skipped_courses))\n",
    "print(skipped_courses)\n"
   ]
  },
  {
   "cell_type": "markdown",
   "metadata": {},
   "source": [
    "***End of Main Code***"
   ]
  },
  {
   "cell_type": "markdown",
   "metadata": {},
   "source": [
    "Just rough old code below. Don't run!"
   ]
  },
  {
   "cell_type": "code",
   "execution_count": 67,
   "metadata": {},
   "outputs": [
    {
     "name": "stdout",
     "output_type": "stream",
     "text": [
      "total conversations in the course:  593\n",
      "total user queries in the course:  1723\n"
     ]
    }
   ],
   "source": [
    "course_df = df[df['course_name'] == 'gpt4']['convo']\n",
    "print(\"total conversations in the course: \", len(course_df))\n",
    "print(\"total user queries in the course: \", len(user_queries))\n"
   ]
  },
  {
   "cell_type": "code",
   "execution_count": 73,
   "metadata": {},
   "outputs": [],
   "source": [
    "metadata = pd.DataFrame(metadata)"
   ]
  },
  {
   "cell_type": "code",
   "execution_count": 71,
   "metadata": {},
   "outputs": [],
   "source": [
    "embeddings_model = OpenAIEmbeddings()\n",
    "embeddings = embeddings_model.embed_documents(user_queries)"
   ]
  },
  {
   "cell_type": "code",
   "execution_count": 72,
   "metadata": {},
   "outputs": [
    {
     "data": {
      "text/plain": [
       "(1723, 1536)"
      ]
     },
     "execution_count": 72,
     "metadata": {},
     "output_type": "execute_result"
    }
   ],
   "source": [
    "embeddings = np.array(embeddings)\n",
    "embeddings.shape"
   ]
  },
  {
   "cell_type": "code",
   "execution_count": 74,
   "metadata": {},
   "outputs": [],
   "source": [
    "# upload\n",
    "import nomic\n",
    "from nomic import atlas\n",
    "nomic.login(os.getenv('NOMIC_API_KEY'))"
   ]
  },
  {
   "cell_type": "code",
   "execution_count": null,
   "metadata": {},
   "outputs": [],
   "source": [
    "project = atlas.map_embeddings(embeddings=np.array(embeddings),\n",
    "                                data=metadata,\n",
    "                                id_field='id',\n",
    "                                build_topic_model=True,\n",
    "                                topic_label_field='query',\n",
    "                                name='User Query Viz for gpt4',\n",
    "                                colorable_fields=['query'])\n",
    "print(project.maps)\n",
    "\n",
    "project.create_index('GPT-4', build_topic_model=True)\n"
   ]
  },
  {
   "cell_type": "code",
   "execution_count": 5,
   "metadata": {},
   "outputs": [],
   "source": [
    "convos = []\n",
    "\n",
    "for d in data:\n",
    "    messages = d['convo']['messages']\n",
    "    for m in messages:\n",
    "        m['course_name'] = d['course_name']\n",
    "    convos.append(messages)"
   ]
  },
  {
   "cell_type": "code",
   "execution_count": 6,
   "metadata": {},
   "outputs": [
    {
     "data": {
      "text/plain": [
       "[\"Help me update this react so that the get_user_permission() function is ONLY called after clerk_user.is_loaded is true. Probably use hooks for this. \\n\\nimport { useUser } from '@clerk/nextjs'\\nimport { NextPage } from 'next'\\nimport { useRouter } from 'next/router'\\nimport { useEffect, useState } from 'react'\\nimport { CanViewOnlyCourse } from '~/components/UIUC-Components/CanViewOnlyCourse'\\nimport { CannotEditCourse } from '~/components/UIUC-Components/CannotEditCourse'\\nimport { CannotViewCourse } from '~/components/UIUC-Components/CannotViewCourse'\\nimport { LoadingSpinner } from '~/components/UIUC-Components/LoadingSpinner'\\nimport { MainPageBackground } from '~/components/UIUC-Components/MainPageBackground'\\nimport { get_user_permission } from '~/components/UIUC-Components/runAuthCheck'\\nimport { CourseMetadata } from '~/types/courseMetadata'\\n\\nconst NotAuthorizedPage: NextPage = (props) => {\\n  const router = useRouter()\\n  const clerk_user = useUser()\\n\\n\\n  const getCurrentPageName = () => {\\n    // /CS-125/materials --> CS-125\\n    return router.asPath.slice(1).split('/')[0] as string\\n  }\\n\\n  const [courseMetadata, setCourseMetadata] = useState<CourseMetadata>()\\n  const course_name = getCurrentPageName()\\n\\n  // Get CourseMetadata\\n  useEffect(() => {\\n    async function fetchCourseMetadata(course_name: string) {\\n      try {\\n        const response = await fetch(\\n          `/api/UIUC-api/getCourseMetadata?course_name=${course_name}`,\\n        )\\n\\n        if (response.ok) {\\n          const data = await response.json()\\n          if (data.success === false) {\\n            console.error(\\n              'not_authorized.tsx -- An error occurred while fetching course metadata',\\n            )\\n            return null\\n          }\\n          return data.course_metadata\\n        } else {\\n          console.error(`Error fetching course metadata: ${response.status}`)\\n          return null\\n        }\\n      } catch (error) {\\n        console.error('Error fetching course metadata:', error)\\n        return null\\n      }\\n    }\\n    fetchCourseMetadata(course_name).then((metadata) => {\\n      setCourseMetadata(metadata)\\n    })\\n  }, [course_name])\\n\\n  if (courseMetadata != null) {\\n    const user_permission = get_user_permission(\\n      courseMetadata,\\n      clerk_user,\\n      router,\\n    )\\n    if (user_permission === 'edit') {\\n      // Can edit and view. You are the course owner or an admin\\n      // redirect to course\\n      router.push(`/${course_name}/gpt4`)\\n    } else if (user_permission === 'view') {\\n      // Not owner or admin, can't edit. But is USER so CAN VIEW\\n      return (\\n        <>\\n          <CanViewOnlyCourse\\n            course_name={course_name}\\n            course_metadata={courseMetadata}\\n          />\\n        </>\\n      )\\n    } else {\\n      // Cannot edit or view\\n      return (\\n        <>\\n          <CannotViewCourse course_name={course_name} />\\n        </>\\n      )\\n    }\\n  }\\n\\n  return (\\n    <>\\n      <MainPageBackground>\\n        <LoadingSpinner />\\n      </MainPageBackground>\\n    </>\\n  )\\n}\\nexport default NotAuthorizedPage\\n Please show the before and after of *just the lines of code* that need to be changes to implement this feature.\",\n",
       " 'The lines of code that need to be changed are the ones where `get_user_permission` is called. You want to ensure that this function is only called when `clerk_user.isLoaded` is `true`. \\n\\nHere is the before and after of the code:\\n\\n**Before:**\\n```javascript\\nif (courseMetadata != null) {\\n  const user_permission = get_user_permission(\\n    courseMetadata,\\n    clerk_user,\\n    router,\\n  )\\n  ...\\n}\\n```\\n\\n**After:**\\n```javascript\\nif (courseMetadata != null && clerk_user.isLoaded) {\\n  const user_permission = get_user_permission(\\n    courseMetadata,\\n    clerk_user,\\n    router,\\n  )\\n  ...\\n}\\n```\\n\\nIn the \"After\" code, `get_user_permission` is only called when `courseMetadata` is not `null` and `clerk_user.isLoaded` is `true`. This ensures that the user data is loaded before attempting to get the user\\'s permissions.',\n",
       " \"That's a great start, but now the function is never called because we don't try again when clerk_user.isLoaded is finally true. Please fix using hooks. It might get complicated because I need to conditionally render the different pages, so please implement that too. \"]"
      ]
     },
     "execution_count": 6,
     "metadata": {},
     "output_type": "execute_result"
    }
   ],
   "source": [
    "temp_data = [convos[0][0]['content'], convos[0][1]['content'], convos[0][2]['content']]\n",
    "temp_data"
   ]
  },
  {
   "cell_type": "code",
   "execution_count": 7,
   "metadata": {},
   "outputs": [],
   "source": [
    "embeddings_model = OpenAIEmbeddings()\n",
    "embeddings = embeddings_model.embed_documents(temp_data)"
   ]
  },
  {
   "cell_type": "code",
   "execution_count": 8,
   "metadata": {},
   "outputs": [
    {
     "name": "stdout",
     "output_type": "stream",
     "text": [
      "(3, 1536)\n"
     ]
    }
   ],
   "source": [
    "print(np.array(embeddings).shape)\n"
   ]
  },
  {
   "cell_type": "code",
   "execution_count": 9,
   "metadata": {},
   "outputs": [
    {
     "name": "stdout",
     "output_type": "stream",
     "text": [
      "make some changes here to put Experience in performing predictive analytics in a large scale enterprise :\n",
      " Paisabazaar Marketing and Consulting Private Limited, Data Analyst Intern                                          April 2022 – June 2022\n",
      "•\tBuilt and sustained large-scale databases, utilizing advanced statistical techniques to scrutinize customer and partner data, leading to a 20% surge in customer retention and a 15% uplift in partner satisfaction.\n",
      "•\tEmployed python scripts for automating operations to extract insights, performing analysis and making the data compatible with SQL server requirements.\n",
      "•\tHandled Big Data Sets using SQL and generated periodical audit reports for data management using SQL triggers (Toad for Oracle) & conducted Statistical Analysis to identify trends and patterns in data.\n",
      "•\tCrafted 35+ interactive filters, parameters, & calculations for dashboards and worksheets in Tableau.\n",
      "\n",
      "\n",
      "{'course_name': 'your-awesome-course', 'query': 'make some changes here to put Experience in performing predictive analytics in a large scale enterprise :\\n Paisabazaar Marketing and Consulting Private Limited, Data Analyst Intern                                          April 2022 – June 2022\\n•\\tBuilt and sustained large-scale databases, utilizing advanced statistical techniques to scrutinize customer and partner data, leading to a 20% surge in customer retention and a 15% uplift in partner satisfaction.\\n•\\tEmployed python scripts for automating operations to extract insights, performing analysis and making the data compatible with SQL server requirements.\\n•\\tHandled Big Data Sets using SQL and generated periodical audit reports for data management using SQL triggers (Toad for Oracle) & conducted Statistical Analysis to identify trends and patterns in data.\\n•\\tCrafted 35+ interactive filters, parameters, & calculations for dashboards and worksheets in Tableau.\\n\\n'}\n"
     ]
    }
   ],
   "source": [
    "# structuring data and metadata\n",
    "response_data = []\n",
    "metadata = []\n",
    "\n",
    "# one response is one full convo - contains dicts of user and bot responses\n",
    "for convo in convos:\n",
    "    if convo[0]['role'] == 'user' and convo[0]['content'] != \"\":\n",
    "        response_data.append(convo[0]['content'])\n",
    "    meta_row = {'course_name': convo[0]['course_name'], 'query': convo[0]['content']}\n",
    "    metadata.append(meta_row)\n",
    "\n",
    "print(response_data[200])\n",
    "print(metadata[200])    "
   ]
  },
  {
   "cell_type": "code",
   "execution_count": 10,
   "metadata": {},
   "outputs": [],
   "source": [
    "data_embeddings = embeddings_model.embed_documents(response_data)"
   ]
  },
  {
   "cell_type": "code",
   "execution_count": 11,
   "metadata": {},
   "outputs": [
    {
     "name": "stdout",
     "output_type": "stream",
     "text": [
      "(1361, 1536)\n"
     ]
    }
   ],
   "source": [
    "print(np.array(data_embeddings).shape)\n"
   ]
  },
  {
   "cell_type": "code",
   "execution_count": 12,
   "metadata": {},
   "outputs": [
    {
     "name": "stdout",
     "output_type": "stream",
     "text": [
      "1692760073.1680226\n"
     ]
    }
   ],
   "source": [
    "import time\n",
    "\n",
    "current_time = time.time()\n",
    "print(current_time)"
   ]
  },
  {
   "cell_type": "code",
   "execution_count": 13,
   "metadata": {},
   "outputs": [],
   "source": [
    "for i in range(len(data_embeddings)):\n",
    "    metadata[i]['id'] = i+1\n",
    "\n",
    "metadata = pd.DataFrame(metadata)"
   ]
  },
  {
   "cell_type": "code",
   "execution_count": 14,
   "metadata": {},
   "outputs": [
    {
     "data": {
      "text/html": [
       "<div>\n",
       "<style scoped>\n",
       "    .dataframe tbody tr th:only-of-type {\n",
       "        vertical-align: middle;\n",
       "    }\n",
       "\n",
       "    .dataframe tbody tr th {\n",
       "        vertical-align: top;\n",
       "    }\n",
       "\n",
       "    .dataframe thead th {\n",
       "        text-align: right;\n",
       "    }\n",
       "</style>\n",
       "<table border=\"1\" class=\"dataframe\">\n",
       "  <thead>\n",
       "    <tr style=\"text-align: right;\">\n",
       "      <th></th>\n",
       "      <th>course_name</th>\n",
       "      <th>query</th>\n",
       "      <th>id</th>\n",
       "    </tr>\n",
       "  </thead>\n",
       "  <tbody>\n",
       "    <tr>\n",
       "      <th>0</th>\n",
       "      <td>gpt4</td>\n",
       "      <td>Help me update this react so that the get_user...</td>\n",
       "      <td>1</td>\n",
       "    </tr>\n",
       "    <tr>\n",
       "      <th>1</th>\n",
       "      <td>gpt4</td>\n",
       "      <td>Update this code to have all code in methods, ...</td>\n",
       "      <td>2</td>\n",
       "    </tr>\n",
       "    <tr>\n",
       "      <th>2</th>\n",
       "      <td>gpt4</td>\n",
       "      <td>1. hello</td>\n",
       "      <td>3</td>\n",
       "    </tr>\n",
       "    <tr>\n",
       "      <th>3</th>\n",
       "      <td>gpt4</td>\n",
       "      <td>hi</td>\n",
       "      <td>4</td>\n",
       "    </tr>\n",
       "    <tr>\n",
       "      <th>4</th>\n",
       "      <td>gpt4</td>\n",
       "      <td>asdgf</td>\n",
       "      <td>5</td>\n",
       "    </tr>\n",
       "  </tbody>\n",
       "</table>\n",
       "</div>"
      ],
      "text/plain": [
       "  course_name                                              query  id\n",
       "0        gpt4  Help me update this react so that the get_user...   1\n",
       "1        gpt4  Update this code to have all code in methods, ...   2\n",
       "2        gpt4                                           1. hello   3\n",
       "3        gpt4                                                 hi   4\n",
       "4        gpt4                                              asdgf   5"
      ]
     },
     "execution_count": 14,
     "metadata": {},
     "output_type": "execute_result"
    }
   ],
   "source": [
    "metadata.head()"
   ]
  },
  {
   "cell_type": "code",
   "execution_count": 16,
   "metadata": {},
   "outputs": [
    {
     "name": "stderr",
     "output_type": "stream",
     "text": [
      "2023-08-22 22:08:20.690 | INFO     | nomic.project:_create_project:779 - Creating project `User Query Text Viz 3` in organization `dabholkar.asmita`\n",
      "2023-08-22 22:08:21.592 | INFO     | nomic.atlas:map_embeddings:107 - Uploading embeddings to Atlas.\n",
      "2023-08-22 22:08:22.203 | WARNING  | nomic.project:_validate_and_correct_arrow_upload:238 - Replacing 1 null values for field course_name with string 'null'. This behavior will change in a future version.\n",
      "2023-08-22 22:08:22.258 | WARNING  | nomic.project:_validate_and_correct_arrow_upload:261 - id_field is not a string. Converting to string from int32\n",
      "2it [00:03,  1.83s/it]                       \n",
      "2023-08-22 22:08:26.039 | INFO     | nomic.project:_add_data:1401 - Upload succeeded.\n",
      "2023-08-22 22:08:26.127 | INFO     | nomic.atlas:map_embeddings:126 - Embedding upload succeeded.\n",
      "2023-08-22 22:08:27.503 | INFO     | nomic.project:create_index:1111 - Created map `User Query Text Viz 3` in project `User Query Text Viz 3`: https://atlas.nomic.ai/map/efb685d0-707b-431a-83b4-f6a0f5998675/81aa5be8-f8c8-4d73-bbc8-def68765559e\n",
      "2023-08-22 22:08:27.506 | INFO     | nomic.atlas:map_embeddings:139 - User Query Text Viz 3: https://atlas.nomic.ai/map/efb685d0-707b-431a-83b4-f6a0f5998675/81aa5be8-f8c8-4d73-bbc8-def68765559e\n"
     ]
    },
    {
     "name": "stdout",
     "output_type": "stream",
     "text": [
      "[User Query Text Viz 3: https://atlas.nomic.ai/map/efb685d0-707b-431a-83b4-f6a0f5998675/81aa5be8-f8c8-4d73-bbc8-def68765559e]\n"
     ]
    }
   ],
   "source": [
    "project = atlas.map_embeddings(embeddings=np.array(data_embeddings),\n",
    "                                data=metadata,\n",
    "                                id_field='id',\n",
    "                                name='User Query Text Viz 3',\n",
    "                                colorable_fields=['course_name'])\n",
    "print(project.maps)"
   ]
  },
  {
   "cell_type": "code",
   "execution_count": 41,
   "metadata": {},
   "outputs": [
    {
     "name": "stdout",
     "output_type": "stream",
     "text": [
      "datetime:  2023-08-24 18:22:34.511014\n",
      "datetime:  2023-08-24 18:22:34.511014\n",
      "datetime:  2023-08-24 18:22:34.511014\n",
      "datetime:  2023-08-24 18:22:34.511014\n",
      "datetime:  2023-08-24 18:22:34.511014\n",
      "datetime:  2023-08-24 18:22:34.511014\n",
      "datetime:  2023-08-24 18:22:34.511014\n",
      "datetime:  2023-08-24 18:22:34.511014\n",
      "datetime:  2023-08-24 18:22:34.511014\n",
      "datetime:  2023-08-24 18:22:34.511014\n"
     ]
    }
   ],
   "source": [
    "from datetime import datetime\n",
    "import time\n",
    "\n",
    "for i in range(10):\n",
    "    #print(\"time: \", time.time())\n",
    "    print(\"datetime: \", datetime.now())"
   ]
  },
  {
   "cell_type": "code",
   "execution_count": null,
   "metadata": {},
   "outputs": [],
   "source": [
    "@app.route('/create-map', methods=['GET'])\n",
    "def generate_nomic_map():\n",
    "  result = create_nomic_map()\n",
    "  response = jsonify(result)\n",
    "  response.headers.add('Access-Control-Allow-Origin', '*')\n",
    "  return response"
   ]
  },
  {
   "cell_type": "code",
   "execution_count": null,
   "metadata": {},
   "outputs": [],
   "source": [
    "def create_nomic_map():\n",
    "  \"\"\"\n",
    "  Creates a Nomic map for new courses and those which previously had < 20 queries.\n",
    "  \"\"\"\n",
    "  # 1. maintain a list of courses with maps.\n",
    "  # 2. fetch conversation data for all the courses.\n",
    "  # 3. skip courses which already have maps, and create maps for the rest.\n",
    "  # 4. add the course to the list of courses which already have maps.\n",
    "  print(\"inside nomic map creation\")\n",
    "  courses_with_maps = ['gpt4', 'badm_550_ashley', 'ece120', 'badm-567-v3', 'new-weather', \n",
    "  'gies-online-mba-v2', 'frontend', 'ECE220FA23', 'ECE408FA23', 'ece408', 'farmdoc_test_kastan-v1', \n",
    "  'NPRE247', 'your-awesome-course', 'pract', 'ece120FL22', 'Law794-TransactionalDraftingAlam', \n",
    "  'NCSA', 'NCSADelta', 'NuclGPT-v1']\n",
    "  \n",
    "  # initialize supabase\n",
    "  url = os.getenv('SUPABASE_URL')\n",
    "  key = os.getenv('SUPABASE_API_KEY')\n",
    "  supabase_client = supabase.Client(url, key)\n",
    "\n",
    "  # fetch all conversations from supabase\n",
    "  response = supabase_client.table(\"llm-convo-monitor\").select(\"*\").execute()\n",
    "  data = response.data\n",
    "  all_courses_df = df = pd.DataFrame(data)\n",
    "  course_names_from_db = df['course_name'].unique()\n",
    "\n",
    "  # initialize langchain embeddings\n",
    "  embeddings_model = OpenAIEmbeddings()\n",
    "\n",
    "  for course in course_names_from_db:\n",
    "    if course is None or course in courses_with_maps:\n",
    "      continue\n",
    "\n",
    "    # get all queries for course and create metadata\n",
    "    user_queries = []\n",
    "    metadata = []\n",
    "\n",
    "    course_df = all_courses_df[all_courses_df['course_name'] == course]['convo']\n",
    "\n",
    "    i = 1\n",
    "    for convo in course_df:\n",
    "      # extract all messages from convo\n",
    "      messages = convo['messages']\n",
    "\n",
    "      # extract queries for user role from messages\n",
    "      for message in messages:\n",
    "        if message['role'] == 'user' and message['content'] != '':\n",
    "          user_queries.append(message['content'])\n",
    "          metadata.append({'course_name': course, 'query': message['content'], 'id': i})\n",
    "          i += 1\n",
    "    \n",
    "    if len(user_queries) < 20:\n",
    "      print(\"course has less than 20 queries, skipping: \", course)\n",
    "      print(len(courses_with_maps))\n",
    "      continue\n",
    "    else:\n",
    "      courses_with_maps.append(course)\n",
    "\n",
    "    # convert query and context to embeddings\n",
    "    metadata = pd.DataFrame(metadata)\n",
    "    embeddings = embeddings_model.embed_documents(user_queries)\n",
    "    embeddings = np.array(embeddings)\n",
    "    print(embeddings.shape)\n",
    "\n",
    "    # create Atlas project\n",
    "    project_name = NOMIC_MAP_NAME_PREFIX + course\n",
    "    index_name = course + \"_index\"\n",
    "    project = atlas.map_embeddings(embeddings=np.array(embeddings), data=metadata,\n",
    "                                   id_field='id', build_topic_model=True, topic_label_field='query',\n",
    "                                   name=project_name, colorable_fields=['query'])\n",
    "    project.create_index(index_name, build_topic_model=True)\n",
    "    print(project.maps)\n",
    "    print(\"total projects with maps: \", len(courses_with_maps))\n",
    "\n",
    "\n"
   ]
  }
 ],
 "metadata": {
  "kernelspec": {
   "display_name": "chatbot38",
   "language": "python",
   "name": "python3"
  },
  "language_info": {
   "codemirror_mode": {
    "name": "ipython",
    "version": 3
   },
   "file_extension": ".py",
   "mimetype": "text/x-python",
   "name": "python",
   "nbconvert_exporter": "python",
   "pygments_lexer": "ipython3",
   "version": "3.10.11"
  },
  "orig_nbformat": 4
 },
 "nbformat": 4,
 "nbformat_minor": 2
}

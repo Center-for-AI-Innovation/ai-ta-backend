{
 "cells": [
  {
   "cell_type": "markdown",
   "metadata": {},
   "source": [
    "# Unit test"
   ]
  },
  {
   "cell_type": "code",
   "execution_count": 1,
   "metadata": {},
   "outputs": [
    {
     "name": "stdout",
     "output_type": "stream",
     "text": [
      "Checking if column exists in table... documents, authors, TEXT\n",
      "Checking if column exists in table... documents, journal_name, TEXT\n",
      "Checking if column exists in table... documents, publication_date, TEXT\n",
      "Checking if column exists in table... documents, keywords, TEXT\n",
      "Checking if column exists in table... documents, doi, TEXT\n",
      "Checking if column exists in table... documents, title, TEXT\n",
      "Checking if column exists in table... documents, subtitle, TEXT\n",
      "Checking if column exists in table... documents, visible_urls, TEXT\n",
      "Checking if column exists in table... documents, field_of_science, TEXT\n",
      "Checking if column exists in table... documents, concise_summary, TEXT\n",
      "Checking if column exists in table... documents, specific_questions_document_can_answer, TEXT\n",
      "Checking if column exists in table... documents, new_questions_document_can_answer, TEXT\n",
      "Column new_questions_document_can_answer added to documents.\n",
      "✅ Document committed to DB.\n",
      "SQLite connection is closed\n"
     ]
    }
   ],
   "source": [
    "import datetime\n",
    "from dotenv import load_dotenv\n",
    "load_dotenv(override=True)\n",
    "\n",
    "from ai_ta_backend.utils.types import DocumentMetadata\n",
    "\n",
    "doc = DocumentMetadata(authors=['Chieh Hubert Lin', 'Changil Kim', 'Jia-Bin Huang', 'Qinbo Li', 'Chih Yao Ma', 'Johannes Kopf', 'Ming-Hsuan Yang', 'Hung-Yu Tseng'], \n",
    "                  journal_name='arXiv', \n",
    "                  publication_date=datetime.date(2024, 4, 15), \n",
    "                  keywords=['Neural Radiance Field', 'NeRF', 'inpainting', 'latent diffusion model', '3D reconstruction', 'multi-view images', 'synthetic contents', 'geometry', 'stochasticity', 'textural shift', 'auto-encoding errors', 'pixel-distance losses', 'per-scene customization', 'masked adversarial training', 'pixel and perceptual losses', 'real-world scenes'], \n",
    "                  doi='2404.09995v1',\n",
    "                  title='Taming Latent Diffusion Model for Neural Radiance Field Inpainting', \n",
    "                  subtitle=None, \n",
    "                  visible_urls=[], \n",
    "                  field_of_science='Computer Vision', \n",
    "                  concise_summary='This paper addresses the challenges in Neural Radiance Field (NeRF) inpainting by proposing a framework that tempers the stochasticity of diffusion models and mitigates textural shifts with masked adversarial training. It also identifies commonly used pixel and perceptual losses as detrimental in NeRF inpainting tasks and demonstrates state-of-the-art results through rigorous experiments.', \n",
    "                  specific_questions_document_can_answer=['What are the challenges in Neural Radiance Field inpainting?', 'How does the proposed framework improve NeRF inpainting?', 'Why are pixel and perceptual losses harmful in NeRF inpainting tasks?', 'What methods are used to mitigate textural shifts in NeRF inpainting?'],\n",
    "                  new_questions_document_can_answer=['hi kastan'])\n",
    "\n",
    "from SQLite import insert_doc\n",
    "insert_doc(doc, commit_on_change=True)"
   ]
  },
  {
   "cell_type": "markdown",
   "metadata": {},
   "source": [
    "# Marvin test"
   ]
  },
  {
   "cell_type": "code",
   "execution_count": null,
   "metadata": {},
   "outputs": [],
   "source": [
    "import datetime\n",
    "from dotenv import load_dotenv\n",
    "load_dotenv(override=True)\n",
    "\n",
    "from ai_ta_backend.utils.types import DocumentMetadata\n"
   ]
  },
  {
   "cell_type": "code",
   "execution_count": null,
   "metadata": {},
   "outputs": [],
   "source": [
    "# Random test paper copy/pasted from from ArXiv: https://arxiv.org/html/2404.09995v1\n",
    "raw_text = \"\"\"License: CC BY-NC-ND 4.0\n",
    "arXiv:2404.09995v1 [cs.CV] 15 Apr 2024\n",
    "(eccv) Package eccv Warning: Package 'hyperref' is loaded with option 'pagebackref', which is *not* recommended for camera-ready version\n",
    "\n",
    "1\n",
    "Taming Latent Diffusion Model for Neural Radiance Field Inpainting\n",
    "Chieh Hubert Lin\n",
    "1122\n",
    "Changil Kim\n",
    "11\n",
    "Jia-Bin Huang\n",
    "1133\n",
    "Qinbo Li\n",
    "11\n",
    "Chih Yao Ma\n",
    "11\n",
    "Johannes Kopf\n",
    "11\n",
    "Ming-Hsuan Yang\n",
    "22\n",
    "Hung-Yu Tseng\n",
    "11\n",
    "Abstract\n",
    "Neural Radiance Field (NeRF) is a representation for 3D reconstruction from multi-view images. Despite some recent work showing preliminary success in editing a reconstructed NeRF with diffusion prior, they remain struggling to synthesize reasonable geometry in completely uncovered regions. One major reason is the high diversity of synthetic contents from the diffusion model, which hinders the radiance field from converging to a crisp and deterministic geometry. Moreover, applying latent diffusion models on real data often yields a textural shift incoherent to the image condition due to auto-encoding errors. These two problems are further reinforced with the use of pixel-distance losses. To address these issues, we propose tempering the diffusion model's stochasticity with per-scene customization and mitigating the textural shift with masked adversarial training. During the analyses, we also found the commonly used pixel and perceptual losses are harmful in the NeRF inpainting task. Through rigorous experiments, our framework yields state-of-the-art NeRF inpainting results on various real-world scenes.\n",
    "\n",
    "Refer to caption\n",
    "Figure 1:NeRF inpainting. Given a set of posed images associated with inpainting masks, the proposed framework estimates a NeRF that renders high-quality novel views, where the inpainting region is realistic and contains high-frequency details.\n",
    "1Introduction\n",
    "The recent advancements in neural radiance fields (NeRF) [24, 27, 3] have achieved high-quality 3D reconstruction and novel-view synthesis of scenes captured with a collection of images. The success intrigues an increasing attention on manipulating NeRFs such as 3D scene stylization [38, 8] and NeRF editing [13]. In this work, we focus on the NeRF inpainting problem. As shown in Figure 1, given a set of images of a scene with the inpainting masks, our goal is to estimate a completed NeRF that renders high-quality images at novel viewpoints. The NeRF inpainting task enables a variety of 3D content creation applications such as removing objects from a scene [26, 39], completing non-observed part of the scene, and hallucinating contents in the designated regions.\n",
    "\"\"\""
   ]
  },
  {
   "cell_type": "code",
   "execution_count": null,
   "metadata": {},
   "outputs": [],
   "source": [
    "import marvin\n",
    "res = marvin.extract(raw_text, target=DocumentMetadata)\n",
    "res"
   ]
  },
  {
   "cell_type": "code",
   "execution_count": null,
   "metadata": {},
   "outputs": [],
   "source": [
    "doc = res[0]\n",
    "from SQLite import insert_doc\n",
    "insert_doc(doc, commit_on_change=True)"
   ]
  },
  {
   "cell_type": "code",
   "execution_count": null,
   "metadata": {},
   "outputs": [],
   "source": [
    "# Result\n",
    "doc = DocumentMetadata(authors=['Chieh Hubert Lin', 'Changil Kim', 'Jia-Bin Huang', 'Qinbo Li', 'Chih Yao Ma', 'Johannes Kopf', 'Ming-Hsuan Yang', 'Hung-Yu Tseng'], \n",
    "                  journal_name='arXiv', \n",
    "                  publication_date=datetime.date(2024, 4, 15), \n",
    "                  keywords=['Neural Radiance Field', 'NeRF', 'inpainting', 'latent diffusion model', '3D reconstruction', 'multi-view images', 'synthetic contents', 'geometry', 'stochasticity', 'textural shift', 'auto-encoding errors', 'pixel-distance losses', 'per-scene customization', 'masked adversarial training', 'pixel and perceptual losses', 'real-world scenes'], \n",
    "                  doi='2404.09995v1',\n",
    "                  title='Taming Latent Diffusion Model for Neural Radiance Field Inpainting', \n",
    "                  subtitle=None, \n",
    "                  visible_urls=[], \n",
    "                  field_of_science='Computer Vision', \n",
    "                  concise_summary='This paper addresses the challenges in Neural Radiance Field (NeRF) inpainting by proposing a framework that tempers the stochasticity of diffusion models and mitigates textural shifts with masked adversarial training. It also identifies commonly used pixel and perceptual losses as detrimental in NeRF inpainting tasks and demonstrates state-of-the-art results through rigorous experiments.', \n",
    "                  specific_questions_document_can_answer=['What are the challenges in Neural Radiance Field inpainting?', 'How does the proposed framework improve NeRF inpainting?', 'Why are pixel and perceptual losses harmful in NeRF inpainting tasks?', 'What methods are used to mitigate textural shifts in NeRF inpainting?'])\n",
    "\n",
    "from SQLite import insert_doc\n",
    "insert_doc(doc, commit_on_change=True)"
   ]
  },
  {
   "cell_type": "markdown",
   "metadata": {},
   "source": [
    "# LLM Parsing with vLLM"
   ]
  },
  {
   "cell_type": "code",
   "execution_count": null,
   "metadata": {},
   "outputs": [],
   "source": [
    "### LLM PARSING\n",
    "from openai import OpenAI # pip install openai>=1.0\n",
    "\n",
    "client = OpenAI(\n",
    "    api_key=\"irrelevant\", # any non-empty string\n",
    "    base_url = \"https://api.ncsa.ai/llm/v1\" ## 👈 ONLY CODE CHANGE ##\n",
    ")\n",
    "\n",
    "completion = client.chat.completions.create(\n",
    "    model=\"NousResearch/Nous-Hermes-2-Mixtral-8x7B-DPO\", # way better than mistral instruct v0.2. Works great! As good as GPT-4 so far.\n",
    "    messages=[\n",
    "        # {\"role\": \"system\", \"content\": \"You are an expert at categorizing scientific papers. Please categorize the following paper.\"},\n",
    "        {\"role\": \"user\", \"content\": \"You are an expert at categorizing scientific papers. Please categorize the following paper.\\n\" + raw_text},\n",
    "    ],\n",
    "    extra_body={\"guided_json\": DocumentMetadata.schema()},\n",
    "    temperature=0.2,\n",
    "    stream=True,\n",
    ")\n",
    "\n",
    "# ⚡️⚡️ streaming \n",
    "final = \"\"\n",
    "for chunk in completion:\n",
    "    print(chunk.choices[0].delta.content or \"\", end=\"\")\n",
    "    final += chunk.choices[0].delta.content or \"\"\n",
    "\n",
    "# print(completion.choices[0].message.content)"
   ]
  },
  {
   "cell_type": "code",
   "execution_count": null,
   "metadata": {},
   "outputs": [],
   "source": [
    "doc = DocumentMetadata.parse_raw(final)\n",
    "doc.dict()"
   ]
  },
  {
   "cell_type": "code",
   "execution_count": null,
   "metadata": {},
   "outputs": [],
   "source": [
    "from SQLite import insert_doc\n",
    "insert_doc(doc, commit_on_change=True)"
   ]
  },
  {
   "cell_type": "code",
   "execution_count": null,
   "metadata": {},
   "outputs": [],
   "source": []
  }
 ],
 "metadata": {
  "kernelspec": {
   "display_name": "Python 3",
   "language": "python",
   "name": "python3"
  },
  "language_info": {
   "codemirror_mode": {
    "name": "ipython",
    "version": 3
   },
   "file_extension": ".py",
   "mimetype": "text/x-python",
   "name": "python",
   "nbconvert_exporter": "python",
   "pygments_lexer": "ipython3",
   "version": "3.10.13"
  }
 },
 "nbformat": 4,
 "nbformat_minor": 2
}

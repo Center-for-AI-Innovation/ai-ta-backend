{
 "cells": [
  {
   "cell_type": "code",
   "execution_count": 46,
   "metadata": {},
   "outputs": [],
   "source": [
    "import datetime\n",
    "from typing import Optional\n",
    "from dotenv import load_dotenv\n",
    "load_dotenv(override=True)\n",
    "\n",
    "import pydantic\n",
    "\n",
    "class DocumentMetadata(pydantic.BaseModel):\n",
    "    authors: list[str]\n",
    "    journal_name: str\n",
    "    publication_date: str  # Changed from datetime.date to str\n",
    "    keywords: list[str]\n",
    "    doi: str\n",
    "    title: str\n",
    "    subtitle: Optional[str]\n",
    "    visible_urls: list[str]\n",
    "    field_of_science: str\n",
    "    concise_summary: str\n",
    "    questions_document_can_answer: list[str]\n"
   ]
  },
  {
   "cell_type": "code",
   "execution_count": 47,
   "metadata": {},
   "outputs": [],
   "source": [
    "# Random test paper copy/pasted from from ArXiv: https://arxiv.org/html/2404.09995v1\n",
    "raw_text = \"\"\"License: CC BY-NC-ND 4.0\n",
    "arXiv:2404.09995v1 [cs.CV] 15 Apr 2024\n",
    "(eccv) Package eccv Warning: Package 'hyperref' is loaded with option 'pagebackref', which is *not* recommended for camera-ready version\n",
    "\n",
    "1\n",
    "Taming Latent Diffusion Model for Neural Radiance Field Inpainting\n",
    "Chieh Hubert Lin\n",
    "1122\n",
    "Changil Kim\n",
    "11\n",
    "Jia-Bin Huang\n",
    "1133\n",
    "Qinbo Li\n",
    "11\n",
    "Chih Yao Ma\n",
    "11\n",
    "Johannes Kopf\n",
    "11\n",
    "Ming-Hsuan Yang\n",
    "22\n",
    "Hung-Yu Tseng\n",
    "11\n",
    "Abstract\n",
    "Neural Radiance Field (NeRF) is a representation for 3D reconstruction from multi-view images. Despite some recent work showing preliminary success in editing a reconstructed NeRF with diffusion prior, they remain struggling to synthesize reasonable geometry in completely uncovered regions. One major reason is the high diversity of synthetic contents from the diffusion model, which hinders the radiance field from converging to a crisp and deterministic geometry. Moreover, applying latent diffusion models on real data often yields a textural shift incoherent to the image condition due to auto-encoding errors. These two problems are further reinforced with the use of pixel-distance losses. To address these issues, we propose tempering the diffusion model's stochasticity with per-scene customization and mitigating the textural shift with masked adversarial training. During the analyses, we also found the commonly used pixel and perceptual losses are harmful in the NeRF inpainting task. Through rigorous experiments, our framework yields state-of-the-art NeRF inpainting results on various real-world scenes.\n",
    "\n",
    "Refer to caption\n",
    "Figure 1:NeRF inpainting. Given a set of posed images associated with inpainting masks, the proposed framework estimates a NeRF that renders high-quality novel views, where the inpainting region is realistic and contains high-frequency details.\n",
    "1Introduction\n",
    "The recent advancements in neural radiance fields (NeRF) [24, 27, 3] have achieved high-quality 3D reconstruction and novel-view synthesis of scenes captured with a collection of images. The success intrigues an increasing attention on manipulating NeRFs such as 3D scene stylization [38, 8] and NeRF editing [13]. In this work, we focus on the NeRF inpainting problem. As shown in Figure 1, given a set of images of a scene with the inpainting masks, our goal is to estimate a completed NeRF that renders high-quality images at novel viewpoints. The NeRF inpainting task enables a variety of 3D content creation applications such as removing objects from a scene [26, 39], completing non-observed part of the scene, and hallucinating contents in the designated regions.\n",
    "\"\"\""
   ]
  },
  {
   "cell_type": "code",
   "execution_count": 7,
   "metadata": {},
   "outputs": [
    {
     "data": {
      "text/plain": [
       "[DocumentMetadata(authors=['Chieh Hubert Lin', 'Changil Kim', 'Jia-Bin Huang', 'Qinbo Li', 'Chih Yao Ma', 'Johannes Kopf', 'Ming-Hsuan Yang', 'Hung-Yu Tseng'], journal_name='arXiv', publication_date=datetime.date(2024, 4, 15), keywords=['Neural Radiance Field', 'NeRF', 'inpainting', 'latent diffusion model', '3D reconstruction', 'multi-view images', 'synthetic contents', 'geometry', 'stochasticity', 'textural shift', 'auto-encoding errors', 'pixel-distance losses', 'per-scene customization', 'masked adversarial training', 'pixel and perceptual losses', 'real-world scenes'], doi='2404.09995v1', title='Taming Latent Diffusion Model for Neural Radiance Field Inpainting', subtitle=None, visible_urls=[], field_of_science='Computer Vision', concise_summary='This paper addresses the challenges in Neural Radiance Field (NeRF) inpainting by proposing a framework that tempers the stochasticity of diffusion models and mitigates textural shifts with masked adversarial training. It also identifies commonly used pixel and perceptual losses as detrimental in NeRF inpainting tasks and demonstrates state-of-the-art results through rigorous experiments.', questions_document_can_answer=['What are the challenges in Neural Radiance Field inpainting?', 'How does the proposed framework improve NeRF inpainting?', 'Why are pixel and perceptual losses harmful in NeRF inpainting tasks?', 'What methods are used to mitigate textural shifts in NeRF inpainting?'])]"
      ]
     },
     "execution_count": 7,
     "metadata": {},
     "output_type": "execute_result"
    }
   ],
   "source": [
    "import marvin\n",
    "marvin.extract(raw_text, target=DocumentMetadata)"
   ]
  },
  {
   "cell_type": "code",
   "execution_count": 12,
   "metadata": {},
   "outputs": [],
   "source": [
    "# Result\n",
    "res = [DocumentMetadata(authors=['Chieh Hubert Lin', 'Changil Kim', 'Jia-Bin Huang', 'Qinbo Li', 'Chih Yao Ma', 'Johannes Kopf', 'Ming-Hsuan Yang', 'Hung-Yu Tseng'], \n",
    "                  journal_name='arXiv', \n",
    "                  publication_date=datetime.date(2024, 4, 15), \n",
    "                  keywords=['Neural Radiance Field', 'NeRF', 'inpainting', 'latent diffusion model', '3D reconstruction', 'multi-view images', 'synthetic contents', 'geometry', 'stochasticity', 'textural shift', 'auto-encoding errors', 'pixel-distance losses', 'per-scene customization', 'masked adversarial training', 'pixel and perceptual losses', 'real-world scenes'], \n",
    "                  doi='2404.09995v1',\n",
    "                  title='Taming Latent Diffusion Model for Neural Radiance Field Inpainting', \n",
    "                  subtitle=None, \n",
    "                  visible_urls=[], \n",
    "                  field_of_science='Computer Vision', \n",
    "                  concise_summary='This paper addresses the challenges in Neural Radiance Field (NeRF) inpainting by proposing a framework that tempers the stochasticity of diffusion models and mitigates textural shifts with masked adversarial training. It also identifies commonly used pixel and perceptual losses as detrimental in NeRF inpainting tasks and demonstrates state-of-the-art results through rigorous experiments.', \n",
    "                  questions_document_can_answer=['What are the challenges in Neural Radiance Field inpainting?', 'How does the proposed framework improve NeRF inpainting?', 'Why are pixel and perceptual losses harmful in NeRF inpainting tasks?', 'What methods are used to mitigate textural shifts in NeRF inpainting?'])\n",
    "]"
   ]
  },
  {
   "cell_type": "code",
   "execution_count": 13,
   "metadata": {},
   "outputs": [
    {
     "data": {
      "text/plain": [
       "[DocumentMetadata(authors=['Chieh Hubert Lin', 'Changil Kim', 'Jia-Bin Huang', 'Qinbo Li', 'Chih Yao Ma', 'Johannes Kopf', 'Ming-Hsuan Yang', 'Hung-Yu Tseng'], journal_name='arXiv', publication_date=datetime.date(2024, 4, 15), keywords=['Neural Radiance Field', 'NeRF', 'inpainting', 'latent diffusion model', '3D reconstruction', 'multi-view images', 'synthetic contents', 'geometry', 'stochasticity', 'textural shift', 'auto-encoding errors', 'pixel-distance losses', 'per-scene customization', 'masked adversarial training', 'pixel and perceptual losses', 'real-world scenes'], doi='2404.09995v1', title='Taming Latent Diffusion Model for Neural Radiance Field Inpainting', subtitle=None, visible_urls=[], field_of_science='Computer Vision', concise_summary='This paper addresses the challenges in Neural Radiance Field (NeRF) inpainting by proposing a framework that tempers the stochasticity of diffusion models and mitigates textural shifts with masked adversarial training. It also identifies commonly used pixel and perceptual losses as detrimental in NeRF inpainting tasks and demonstrates state-of-the-art results through rigorous experiments.', questions_document_can_answer=['What are the challenges in Neural Radiance Field inpainting?', 'How does the proposed framework improve NeRF inpainting?', 'Why are pixel and perceptual losses harmful in NeRF inpainting tasks?', 'What methods are used to mitigate textural shifts in NeRF inpainting?'])]"
      ]
     },
     "execution_count": 13,
     "metadata": {},
     "output_type": "execute_result"
    }
   ],
   "source": [
    "res"
   ]
  },
  {
   "cell_type": "code",
   "execution_count": 16,
   "metadata": {},
   "outputs": [
    {
     "name": "stdout",
     "output_type": "stream",
     "text": [
      "Document added successfully.\n",
      "MySQL connection is closed\n"
     ]
    }
   ],
   "source": [
    "import json\n",
    "import mysql.connector\n",
    "from datetime import date\n",
    "\n",
    "# Replace these with your connection details\n",
    "config = {\n",
    "    'user': 'root',\n",
    "    'password': ,  # Replace with your MySQL root password\n",
    "    'host': '127.0.0.1',\n",
    "    'database': 'science',     # Replace with your database name\n",
    "    'raise_on_warnings': True\n",
    "}\n",
    "\n",
    "# Result\n",
    "res = [DocumentMetadata(authors=['Chieh Hubert Lin', 'Changil Kim', 'Jia-Bin Huang', 'Qinbo Li', 'Chih Yao Ma', 'Johannes Kopf', 'Ming-Hsuan Yang', 'Hung-Yu Tseng'], \n",
    "                  journal_name='arXiv', \n",
    "                  publication_date=datetime.date(2024, 4, 15), \n",
    "                  keywords=['Neural Radiance Field', 'NeRF', 'inpainting', 'latent diffusion model', '3D reconstruction', 'multi-view images', 'synthetic contents', 'geometry', 'stochasticity', 'textural shift', 'auto-encoding errors', 'pixel-distance losses', 'per-scene customization', 'masked adversarial training', 'pixel and perceptual losses', 'real-world scenes'], \n",
    "                  doi='2404.09995v1',\n",
    "                  title='Taming Latent Diffusion Model for Neural Radiance Field Inpainting', \n",
    "                  subtitle=None, \n",
    "                  visible_urls=[], \n",
    "                  field_of_science='Computer Vision', \n",
    "                  concise_summary='This paper addresses the challenges in Neural Radiance Field (NeRF) inpainting by proposing a framework that tempers the stochasticity of diffusion models and mitigates textural shifts with masked adversarial training. It also identifies commonly used pixel and perceptual losses as detrimental in NeRF inpainting tasks and demonstrates state-of-the-art results through rigorous experiments.', \n",
    "                  questions_document_can_answer=['What are the challenges in Neural Radiance Field inpainting?', 'How does the proposed framework improve NeRF inpainting?', 'Why are pixel and perceptual losses harmful in NeRF inpainting tasks?', 'What methods are used to mitigate textural shifts in NeRF inpainting?'])\n",
    "]\n",
    "\n",
    "try:\n",
    "    # Establishing the connection\n",
    "    db = mysql.connector.connect(**config)\n",
    "    cursor = db.cursor()\n",
    "\n",
    "    # SQL command to insert the data\n",
    "    add_document = (\n",
    "        \"INSERT INTO documents \"\n",
    "        \"(authors, journal_name, publication_date, keywords, doi, title, subtitle, visible_urls, field_of_science, concise_summary, questions_document_can_answer) \"\n",
    "        \"VALUES (%s, %s, %s, %s, %s, %s, %s, %s, %s, %s, %s)\"\n",
    "    )\n",
    "\n",
    "    # Data tuple to insert\n",
    "    # data_document = (\n",
    "    #     '[\\\"Author One\\\", \\\"Author Two\\\"]',\n",
    "    #     'Journal of Example',\n",
    "    #     date(2024, 4, 17),\n",
    "    #     '[\\\"keyword1\\\", \\\"keyword2\\\"]',\n",
    "    #     '10.1000/j.journal.2024v2',\n",
    "    #     'Example Title',\n",
    "    #     'Example Subtitle',\n",
    "    #     '[\\\"http://example.com\\\"]',\n",
    "    #     'Physics',\n",
    "    #     'This is a concise summary of the document.',\n",
    "    #     '[\\\"What is example?\\\", \\\"How does example work?\\\"]'\n",
    "    # )\n",
    "    for doc in res:\n",
    "        # Convert DocumentMetadata object to a tuple for database insertion\n",
    "        data_document = (\n",
    "            json.dumps(doc.authors),  # Convert list to string\n",
    "            doc.journal_name,\n",
    "            doc.publication_date,\n",
    "            json.dumps(doc.keywords),  # Convert list to string\n",
    "            doc.doi,\n",
    "            doc.title,\n",
    "            doc.subtitle,\n",
    "            json.dumps(doc.visible_urls),  # Convert list to string\n",
    "            doc.field_of_science,\n",
    "            doc.concise_summary,\n",
    "            json.dumps(doc.questions_document_can_answer)  # Convert list to string\n",
    "        )\n",
    "\n",
    "        # Executing the SQL command\n",
    "        cursor.execute(add_document, data_document)\n",
    "\n",
    "    # Commit your changes in the database\n",
    "    db.commit()\n",
    "\n",
    "    print(\"Document added successfully.\")\n",
    "\n",
    "except mysql.connector.Error as err:\n",
    "    print(f\"Error: {err}\")\n",
    "\n",
    "finally:\n",
    "    if db.is_connected():\n",
    "        cursor.close()\n",
    "        db.close()\n",
    "        print(\"MySQL connection is closed\")\n",
    "\n"
   ]
  },
  {
   "cell_type": "code",
   "execution_count": 48,
   "metadata": {},
   "outputs": [
    {
     "data": {
      "text/plain": [
       "{'properties': {'authors': {'items': {'type': 'string'},\n",
       "   'title': 'Authors',\n",
       "   'type': 'array'},\n",
       "  'journal_name': {'title': 'Journal Name', 'type': 'string'},\n",
       "  'publication_date': {'title': 'Publication Date', 'type': 'string'},\n",
       "  'keywords': {'items': {'type': 'string'},\n",
       "   'title': 'Keywords',\n",
       "   'type': 'array'},\n",
       "  'doi': {'title': 'Doi', 'type': 'string'},\n",
       "  'title': {'title': 'Title', 'type': 'string'},\n",
       "  'subtitle': {'anyOf': [{'type': 'string'}, {'type': 'null'}],\n",
       "   'title': 'Subtitle'},\n",
       "  'visible_urls': {'items': {'type': 'string'},\n",
       "   'title': 'Visible Urls',\n",
       "   'type': 'array'},\n",
       "  'field_of_science': {'title': 'Field Of Science', 'type': 'string'},\n",
       "  'concise_summary': {'title': 'Concise Summary', 'type': 'string'},\n",
       "  'questions_document_can_answer': {'items': {'type': 'string'},\n",
       "   'title': 'Questions Document Can Answer',\n",
       "   'type': 'array'}},\n",
       " 'required': ['authors',\n",
       "  'journal_name',\n",
       "  'publication_date',\n",
       "  'keywords',\n",
       "  'doi',\n",
       "  'title',\n",
       "  'subtitle',\n",
       "  'visible_urls',\n",
       "  'field_of_science',\n",
       "  'concise_summary',\n",
       "  'questions_document_can_answer'],\n",
       " 'title': 'DocumentMetadata',\n",
       " 'type': 'object'}"
      ]
     },
     "execution_count": 48,
     "metadata": {},
     "output_type": "execute_result"
    }
   ],
   "source": [
    "# json.dumps(DocumentMetadata)\n",
    "DocumentMetadata.schema()"
   ]
  },
  {
   "cell_type": "code",
   "execution_count": 64,
   "metadata": {},
   "outputs": [
    {
     "name": "stdout",
     "output_type": "stream",
     "text": [
      "{\n",
      "  \"authors\": [\"Chieh Hubert Lin\", \"Changil Kim\", \"Jia-Bin Huang\", \"Qinbo Li\", \"Chih Yao Ma\", \"Johannes Kopf\", \"Ming-Hsuan Yang\", \"Hung-Yu Tseng\"],\n",
      "  \"concise_summary\": \"This paper proposes a framework for NeRF inpainting that addresses issues related to stochasticity and textural shift in the latent diffusion model. The framework uses per-scene customization and masked adversarial training to improve the quality of the inpainted NeRF. The authors also found that commonly used pixel and perceptual losses are not suitable for this task.\",\n",
      "  \"doi\": \"2404.09995v1\",\n",
      "  \"field_of_science\": \"Computer Science\",\n",
      "  \"journal_name\": \"eccv\",\n",
      "  \"keywords\": [\"Neural Radiance Field\", \"NeRF inpainting\", \"latent diffusion model\", \"stochasticity\", \"textural shift\", \"per-scene customization\", \"masked adversarial training\", \"pixel and perceptual losses\"],\n",
      "  \"publication_date\": \"15 Apr 2024\",\n",
      "  \"questions_document_can_answer\": [\"What is the main focus of this paper?\", \"What issues does the proposed framework address in the latent diffusion model?\", \"What techniques are used to improve the quality of the inpainted NeRF?\", \"What did the authors find about the commonly used pixel and perceptual losses in this task?\"],\n",
      "  \"subtitle\": \"Taming Latent Diffusion Model for Neural Radiance Field Inpainting\",\n",
      "  \"title\": \"Taming Latent Diffusion Model for Neural Radiance Field Inpainting\",\n",
      "  \"visible_urls\": [\"https://arxiv.org/abs/2404.09995v1\"]\n",
      "}"
     ]
    }
   ],
   "source": [
    "### LLM PARSING\n",
    "from openai import OpenAI # pip install openai>=1.0\n",
    "\n",
    "client = OpenAI(\n",
    "    api_key=\"irrelevant\", # any non-empty string\n",
    "    base_url = \"https://api.ncsa.ai/llm/v1\" ## 👈 ONLY CODE CHANGE ##\n",
    ")\n",
    "\n",
    "completion = client.chat.completions.create(\n",
    "    # model=\"teknium/OpenHermes-2.5-Mistral-7B\",\n",
    "    # model=\"mistralai/Mistral-7B-Instruct-v0.2\", # better than teknium model \n",
    "    model=\"NousResearch/Nous-Hermes-2-Mixtral-8x7B-DPO\", # way better than mistral instruct v0.2. Works great! As good as GPT-4 so far.\n",
    "    messages=[\n",
    "        # {\"role\": \"system\", \"content\": \"You are an expert at categorizing scientific papers. Please categorize the following paper.\"},\n",
    "        {\"role\": \"user\", \"content\": \"You are an expert at categorizing scientific papers. Please categorize the following paper.\\n\" + raw_text},\n",
    "    ],\n",
    "    extra_body={\"guided_json\": DocumentMetadata.schema()},\n",
    "    temperature=0.2,\n",
    "    stream=True,\n",
    ")\n",
    "\n",
    "# ⚡️⚡️ streaming \n",
    "final = \"\"\n",
    "for chunk in completion:\n",
    "    print(chunk.choices[0].delta.content or \"\", end=\"\")\n",
    "    final += chunk.choices[0].delta.content or \"\"\n",
    "\n",
    "# print(completion.choices[0].message.content)"
   ]
  },
  {
   "cell_type": "code",
   "execution_count": 69,
   "metadata": {},
   "outputs": [
    {
     "data": {
      "text/plain": [
       "{'authors': ['Chieh Hubert Lin',\n",
       "  'Changil Kim',\n",
       "  'Jia-Bin Huang',\n",
       "  'Qinbo Li',\n",
       "  'Chih Yao Ma',\n",
       "  'Johannes Kopf',\n",
       "  'Ming-Hsuan Yang',\n",
       "  'Hung-Yu Tseng'],\n",
       " 'journal_name': 'eccv',\n",
       " 'publication_date': '15 Apr 2024',\n",
       " 'keywords': ['Neural Radiance Field',\n",
       "  'NeRF inpainting',\n",
       "  'latent diffusion model',\n",
       "  'stochasticity',\n",
       "  'textural shift',\n",
       "  'per-scene customization',\n",
       "  'masked adversarial training',\n",
       "  'pixel and perceptual losses'],\n",
       " 'doi': '2404.09995v1',\n",
       " 'title': 'Taming Latent Diffusion Model for Neural Radiance Field Inpainting',\n",
       " 'subtitle': 'Taming Latent Diffusion Model for Neural Radiance Field Inpainting',\n",
       " 'visible_urls': ['https://arxiv.org/abs/2404.09995v1'],\n",
       " 'field_of_science': 'Computer Science',\n",
       " 'concise_summary': 'This paper proposes a framework for NeRF inpainting that addresses issues related to stochasticity and textural shift in the latent diffusion model. The framework uses per-scene customization and masked adversarial training to improve the quality of the inpainted NeRF. The authors also found that commonly used pixel and perceptual losses are not suitable for this task.',\n",
       " 'questions_document_can_answer': ['What is the main focus of this paper?',\n",
       "  'What issues does the proposed framework address in the latent diffusion model?',\n",
       "  'What techniques are used to improve the quality of the inpainted NeRF?',\n",
       "  'What did the authors find about the commonly used pixel and perceptual losses in this task?']}"
      ]
     },
     "execution_count": 69,
     "metadata": {},
     "output_type": "execute_result"
    }
   ],
   "source": [
    "doc = DocumentMetadata.parse_raw(final)\n",
    "doc.dict()"
   ]
  },
  {
   "cell_type": "code",
   "execution_count": 68,
   "metadata": {},
   "outputs": [
    {
     "data": {
      "text/plain": [
       "{'authors': ['Chieh Hubert Lin',\n",
       "  'Changil Kim',\n",
       "  'Jia-Bin Huang',\n",
       "  'Qinbo Li',\n",
       "  'Chih Yao Ma',\n",
       "  'Johannes Kopf',\n",
       "  'Ming-Hsuan Yang',\n",
       "  'Hung-Yu Tseng'],\n",
       " 'journal_name': 'eccv',\n",
       " 'publication_date': '15 Apr 2024',\n",
       " 'keywords': ['Neural Radiance Field',\n",
       "  'NeRF inpainting',\n",
       "  'latent diffusion model',\n",
       "  'stochasticity',\n",
       "  'textural shift',\n",
       "  'per-scene customization',\n",
       "  'masked adversarial training',\n",
       "  'pixel and perceptual losses'],\n",
       " 'doi': '2404.09995v1',\n",
       " 'title': 'Taming Latent Diffusion Model for Neural Radiance Field Inpainting',\n",
       " 'subtitle': 'Taming Latent Diffusion Model for Neural Radiance Field Inpainting',\n",
       " 'visible_urls': ['https://arxiv.org/abs/2404.09995v1'],\n",
       " 'field_of_science': 'Computer Science',\n",
       " 'concise_summary': 'This paper proposes a framework for NeRF inpainting that addresses issues related to stochasticity and textural shift in the latent diffusion model. The framework uses per-scene customization and masked adversarial training to improve the quality of the inpainted NeRF. The authors also found that commonly used pixel and perceptual losses are not suitable for this task.',\n",
       " 'questions_document_can_answer': ['What is the main focus of this paper?',\n",
       "  'What issues does the proposed framework address in the latent diffusion model?',\n",
       "  'What techniques are used to improve the quality of the inpainted NeRF?',\n",
       "  'What did the authors find about the commonly used pixel and perceptual losses in this task?']}"
      ]
     },
     "execution_count": 68,
     "metadata": {},
     "output_type": "execute_result"
    }
   ],
   "source": []
  },
  {
   "cell_type": "code",
   "execution_count": 66,
   "metadata": {},
   "outputs": [
    {
     "data": {
      "text/plain": [
       "DocumentMetadata(authors=['Chieh Hubert Lin', 'Changil Kim', 'Jia-Bin Huang', 'Qinbo Li', 'Chih Yao Ma', 'Johannes Kopf', 'Ming-Hsuan Yang', 'Hung-Yu Tseng'], journal_name='eccv', publication_date='15 Apr 2024', keywords=['Neural Radiance Field', 'NeRF inpainting', 'latent diffusion model', 'stochasticity', 'textural shift', 'per-scene customization', 'masked adversarial training', 'pixel and perceptual losses'], doi='2404.09995v1', title='Taming Latent Diffusion Model for Neural Radiance Field Inpainting', subtitle='Taming Latent Diffusion Model for Neural Radiance Field Inpainting', visible_urls=['https://arxiv.org/abs/2404.09995v1'], field_of_science='Computer Science', concise_summary='This paper proposes a framework for NeRF inpainting that addresses issues related to stochasticity and textural shift in the latent diffusion model. The framework uses per-scene customization and masked adversarial training to improve the quality of the inpainted NeRF. The authors also found that commonly used pixel and perceptual losses are not suitable for this task.', questions_document_can_answer=['What is the main focus of this paper?', 'What issues does the proposed framework address in the latent diffusion model?', 'What techniques are used to improve the quality of the inpainted NeRF?', 'What did the authors find about the commonly used pixel and perceptual losses in this task?'])"
      ]
     },
     "execution_count": 66,
     "metadata": {},
     "output_type": "execute_result"
    }
   ],
   "source": []
  },
  {
   "cell_type": "code",
   "execution_count": 67,
   "metadata": {},
   "outputs": [
    {
     "data": {
      "text/plain": [
       "{'authors': ['Chieh Hubert Lin',\n",
       "  'Changil Kim',\n",
       "  'Jia-Bin Huang',\n",
       "  'Qinbo Li',\n",
       "  'Chih Yao Ma',\n",
       "  'Johannes Kopf',\n",
       "  'Ming-Hsuan Yang',\n",
       "  'Hung-Yu Tseng'],\n",
       " 'journal_name': 'eccv',\n",
       " 'publication_date': '15 Apr 2024',\n",
       " 'keywords': ['Neural Radiance Field',\n",
       "  'NeRF inpainting',\n",
       "  'latent diffusion model',\n",
       "  'stochasticity',\n",
       "  'textural shift',\n",
       "  'per-scene customization',\n",
       "  'masked adversarial training',\n",
       "  'pixel and perceptual losses'],\n",
       " 'doi': '2404.09995v1',\n",
       " 'title': 'Taming Latent Diffusion Model for Neural Radiance Field Inpainting',\n",
       " 'subtitle': 'Taming Latent Diffusion Model for Neural Radiance Field Inpainting',\n",
       " 'visible_urls': ['https://arxiv.org/abs/2404.09995v1'],\n",
       " 'field_of_science': 'Computer Science',\n",
       " 'concise_summary': 'This paper proposes a framework for NeRF inpainting that addresses issues related to stochasticity and textural shift in the latent diffusion model. The framework uses per-scene customization and masked adversarial training to improve the quality of the inpainted NeRF. The authors also found that commonly used pixel and perceptual losses are not suitable for this task.',\n",
       " 'questions_document_can_answer': ['What is the main focus of this paper?',\n",
       "  'What issues does the proposed framework address in the latent diffusion model?',\n",
       "  'What techniques are used to improve the quality of the inpainted NeRF?',\n",
       "  'What did the authors find about the commonly used pixel and perceptual losses in this task?']}"
      ]
     },
     "execution_count": 67,
     "metadata": {},
     "output_type": "execute_result"
    }
   ],
   "source": []
  },
  {
   "cell_type": "code",
   "execution_count": null,
   "metadata": {},
   "outputs": [],
   "source": []
  },
  {
   "cell_type": "code",
   "execution_count": null,
   "metadata": {},
   "outputs": [],
   "source": []
  },
  {
   "cell_type": "code",
   "execution_count": null,
   "metadata": {},
   "outputs": [],
   "source": []
  },
  {
   "cell_type": "code",
   "execution_count": 28,
   "metadata": {},
   "outputs": [
    {
     "name": "stdout",
     "output_type": "stream",
     "text": [
      "{\n",
      "  \"authors\": [\n",
      "    \"Chieh Hubert Lin, Changil Kim, Jia-Bin Huang, Qinbo Li, Chih Yao Ma, Johannes Kopf, Ming-Hsuan Yang, Hung-Yu Tseng\"\n",
      "  ],\n",
      "  \"concise_summary\": \"Taming Latent Diffusion Model for Neural Radiance Field Inpainting, the authors propose a framework that addresses the problem of synthesizing reasonable geometry in completely uncovered regions of Neural Radiance Field (NeRF) for 3D reconstruction from multi-view images. They propose tempering the diffusion model's stochasticity with per-scene customization and mitigating the textural shift with masked adversarial training. They also found that commonly used pixel and perceptual losses are harmful in the NeRF inpainting task.\",\n",
      "  \"doi\": \"\",\n",
      "  \"field_of_science\": \"Computer Science > Computer Vision and Pattern Recognition\",\n",
      "  \"journal_name\": \"European Conference on Computer Vision\",\n",
      "  \"keywords\": [\n",
      "    \"Latent diffusion model\",\n",
      "    \"Neural Radiance Field Inpainting\",\n",
      "    \"3D reconstruction\",\n",
      "    \"Multi-view images\"\n",
      "  ],\n",
      "  \"publication_date\": 1546-04-15,\n",
      "  \"questions_document_can_answer\": [\n",
      "    \"What is the main problem that the authors are addressing in their paper?\",\n",
      "    \"What are the proposed solutions for addressing the main problem?\",\n",
      "    \"What are the common issues with using pixel and perceptual losses in the NeRF inpainting task?\",\n",
      "    \"What is the purpose of applying masked adversarial training to mitigate the textural shift?\"\n",
      "  ],\n",
      "  \"subtitle\": \"Tempering the diffusion model's stochasticity with per-scene customization and mitigating the textural shift with masked adversarial training.\",\n",
      "  \"title\": \"Taming Latent Diffusion Model for Neural Radiance Field Inpainting\",\n",
      "  \"visible_urls\": [\n",
      "    \"https://openaccess.thecvf.com/content/ECCV2024/papers/Lin_Taming_Latent_Diffusion_Model_for_Neural_Radiance_Field_Inpainting_ECCV_2024_paper.pdf\"\n",
      "  ]\n",
      "}\n"
     ]
    }
   ],
   "source": [
    "print(completion.choices[0].message.content)\n",
    "# Not great response... DOI is missing, publication date is wrong. Questions qre quite bad. Authors are not separated.\n",
    "# teknium/OpenHermes-2.5-Mistral-7B"
   ]
  },
  {
   "cell_type": "code",
   "execution_count": null,
   "metadata": {},
   "outputs": [],
   "source": []
  }
 ],
 "metadata": {
  "kernelspec": {
   "display_name": "Python 3",
   "language": "python",
   "name": "python3"
  },
  "language_info": {
   "codemirror_mode": {
    "name": "ipython",
    "version": 3
   },
   "file_extension": ".py",
   "mimetype": "text/x-python",
   "name": "python",
   "nbconvert_exporter": "python",
   "pygments_lexer": "ipython3",
   "version": "3.10.13"
  }
 },
 "nbformat": 4,
 "nbformat_minor": 2
}
